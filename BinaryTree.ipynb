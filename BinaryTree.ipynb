{
 "cells": [
  {
   "cell_type": "markdown",
   "metadata": {},
   "source": [
    "Binary Search Tree Implementation\n",
    "There are 2 parts to this implementation\n",
    "    1. Binary Node\n",
    "       Functions:\n",
    "           1. __init__  set values for left, right\n",
    "           2. add adds the nodes based on their value\n",
    "               1. If value of node is less than self.value \n",
    "               2. Its a left node so add it to left subtree\n",
    "               3. call addToSubTree Function \n",
    "               Else\n",
    "               1. If value of node is greater than self.value \n",
    "               2. Its a right node so add it to right subtree\n",
    "               3. call addToSubTree Function \n",
    "              \n",
    "           3. addToSubTree\n",
    "               1. Checks if parent is none then add the value to root\n",
    "               \n",
    "    2. Binary Tree Class\n",
    "    \n"
   ]
  },
  {
   "cell_type": "markdown",
   "metadata": {},
   "source": [
    "TODO \n",
    "Check if one tree is a subtree of another.\n"
   ]
  },
  {
   "cell_type": "code",
   "execution_count": 76,
   "metadata": {
    "collapsed": true
   },
   "outputs": [],
   "source": [
    "class BinaryNode:\n",
    "    def __init__(self,value):\n",
    "        self.value = value\n",
    "        self.left = None\n",
    "        self.right = None\n",
    "\n",
    "        \n",
    "    def add(self, value):\n",
    "        # Left is smaller than root -- Root -- Right is greater than root\n",
    "        if value <=self.value:\n",
    "            self.left = self.addToSubTree(self.left, value)\n",
    "        elif value > self.value:\n",
    "            self.right = self.addToSubTree(self.right, value)\n",
    "    \n",
    "    def addToSubTree(self, parent, value):\n",
    "        if parent is None:\n",
    "            return BinaryNode(value)\n",
    "        parent.add(value)\n",
    "        return parent\n",
    "    \n",
    "    def remove(self, value):\n",
    "        if value < self.value:\n",
    "            self.left = self.removeFromParent(self.left, value)\n",
    "        elif value > self.value:\n",
    "            self.right = self.remvoeFromParent(self.right,value)\n",
    "        else:\n",
    "            if self.left is None:\n",
    "                return self.right\n",
    "            \n",
    "            #find largest value\n",
    "            child = self.left\n",
    "            while child.right:\n",
    "                child = child.right\n",
    "            childKey = child.value\n",
    "            #recursive remove\n",
    "            self.left = self.removeFromParent(self.left, value)\n",
    "            self.value = childKey\n",
    "        return self\n",
    "     \n",
    "    \n",
    "    def removeFromParent(self, parent, value):\n",
    "        if parent:\n",
    "            return parent.remove(value)\n",
    "        return None\n",
    "    \n",
    "class BinaryTree:\n",
    "    def __init__(self):\n",
    "        self.root = None\n",
    "    \n",
    "    def add(self, value):\n",
    "        if self.root ==None:\n",
    "            self.root = BinaryNode(value)\n",
    "        else:\n",
    "            self.root.add(value)  # Recursive Call\n",
    "    \n",
    "    def remove(self, value):\n",
    "        if self.root is not None:\n",
    "            self.root = self.root.remove(value)\n",
    "            \n",
    "    \n",
    "    def __contains__(self, target):\n",
    "        node = self.root\n",
    "        while node is not None:\n",
    "            if node is not None:\n",
    "                if target < node.value:\n",
    "                    node = node.left\n",
    "                elif target > node.value:\n",
    "                    node = node.right\n",
    "                else:\n",
    "                    return True\n",
    "        return False\n",
    "    \n",
    "   "
   ]
  },
  {
   "cell_type": "code",
   "execution_count": 77,
   "metadata": {},
   "outputs": [],
   "source": [
    "b = BinaryTree()"
   ]
  },
  {
   "cell_type": "code",
   "execution_count": 78,
   "metadata": {},
   "outputs": [
    {
     "data": {
      "text/plain": [
       "7"
      ]
     },
     "execution_count": 78,
     "metadata": {},
     "output_type": "execute_result"
    }
   ],
   "source": [
    "b.root\n",
    "b.add(7)\n",
    "b.root\n",
    "b.root.value\n"
   ]
  },
  {
   "cell_type": "code",
   "execution_count": 82,
   "metadata": {},
   "outputs": [
    {
     "data": {
      "text/plain": [
       "True"
      ]
     },
     "execution_count": 82,
     "metadata": {},
     "output_type": "execute_result"
    }
   ],
   "source": [
    "b.add(1)\n",
    "b.root.left.value\n",
    "1 in b"
   ]
  },
  {
   "cell_type": "code",
   "execution_count": 83,
   "metadata": {},
   "outputs": [],
   "source": [
    "b.remove(1)"
   ]
  },
  {
   "cell_type": "code",
   "execution_count": 84,
   "metadata": {},
   "outputs": [
    {
     "data": {
      "text/plain": [
       "False"
      ]
     },
     "execution_count": 84,
     "metadata": {},
     "output_type": "execute_result"
    }
   ],
   "source": [
    "1 in b"
   ]
  },
  {
   "cell_type": "code",
   "execution_count": null,
   "metadata": {
    "collapsed": true
   },
   "outputs": [],
   "source": []
  }
 ],
 "metadata": {
  "kernelspec": {
   "display_name": "Python 3",
   "language": "python",
   "name": "python3"
  },
  "language_info": {
   "codemirror_mode": {
    "name": "ipython",
    "version": 3
   },
   "file_extension": ".py",
   "mimetype": "text/x-python",
   "name": "python",
   "nbconvert_exporter": "python",
   "pygments_lexer": "ipython3",
   "version": "3.6.1"
  }
 },
 "nbformat": 4,
 "nbformat_minor": 2
}

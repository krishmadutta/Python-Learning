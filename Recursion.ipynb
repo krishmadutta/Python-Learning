{
 "cells": [
  {
   "cell_type": "code",
   "execution_count": 1,
   "metadata": {},
   "outputs": [
    {
     "name": "stdout",
     "output_type": "stream",
     "text": [
      "15\n"
     ]
    }
   ],
   "source": [
    "# n = 5 output = 5+4+3+2+1+0 = 15\n",
    "# n + (n-1) + (n-2) + ....+0\n",
    "def RecursiveSum(number):\n",
    "    \n",
    "    if number ==0:\n",
    "        return 0\n",
    "    else:\n",
    "        \n",
    "        return RecursiveSum(number -1)+ number\n",
    "\n",
    "print (RecursiveSum(5))   "
   ]
  },
  {
   "cell_type": "code",
   "execution_count": 12,
   "metadata": {},
   "outputs": [
    {
     "name": "stdout",
     "output_type": "stream",
     "text": [
      "12\n"
     ]
    }
   ],
   "source": [
    "def SumDigits(number):\n",
    "    \"\"\" Return the sum of digits of a number.\n",
    "        number: non-negative integer\n",
    "    \"\"\"\n",
    "\n",
    "    # Base Case\n",
    "    if number == 0:\n",
    "        return 0\n",
    "    else:\n",
    "        # Mod (%) by 10 gives you the rightmost digit (227 % 10 == 7), \n",
    "        # while doing integer division by 10 removes the rightmost \n",
    "        # digit (227 // 10 is 22)\n",
    "\n",
    "        return (number % 10) + SumDigits(number // 10)\n",
    "    \n",
    "print (SumDigits(57))"
   ]
  },
  {
   "cell_type": "code",
   "execution_count": 13,
   "metadata": {},
   "outputs": [
    {
     "data": {
      "text/plain": [
       "'scba'"
      ]
     },
     "execution_count": 13,
     "metadata": {},
     "output_type": "execute_result"
    }
   ],
   "source": [
    "#reverse a string using recursion\n",
    "\n",
    "def ReverseString(s):\n",
    "    # Base case\n",
    "    if(len(s)<=1):\n",
    "        return s\n",
    "    \n",
    "    #Recursion\n",
    "                # abc  calls bc + a\n",
    "    return ReverseString(s[1:]) + s[0]\n",
    "\n",
    "ReverseString (\"abcs\")"
   ]
  },
  {
   "cell_type": "code",
   "execution_count": null,
   "metadata": {
    "collapsed": true
   },
   "outputs": [],
   "source": [
    "# Permutation\n",
    "# 3 *2 *1  = 6 Permutations\n",
    "#abc, cba, acb, bca\n",
    "\n",
    "def Permutation(s):\n",
    "    #base case  If array has len(s) *\n",
    "    "
   ]
  }
 ],
 "metadata": {
  "kernelspec": {
   "display_name": "Python 3",
   "language": "python",
   "name": "python3"
  },
  "language_info": {
   "codemirror_mode": {
    "name": "ipython",
    "version": 3
   },
   "file_extension": ".py",
   "mimetype": "text/x-python",
   "name": "python",
   "nbconvert_exporter": "python",
   "pygments_lexer": "ipython3",
   "version": "3.6.1"
  }
 },
 "nbformat": 4,
 "nbformat_minor": 2
}

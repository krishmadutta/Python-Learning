{
 "cells": [
  {
   "cell_type": "code",
   "execution_count": 1,
   "metadata": {},
   "outputs": [
    {
     "name": "stdout",
     "output_type": "stream",
     "text": [
      "15\n"
     ]
    }
   ],
   "source": [
    "# n = 5 output = 5+4+3+2+1+0 = 15\n",
    "# n + (n-1) + (n-2) + ....+0\n",
    "def RecursiveSum(number):\n",
    "    \n",
    "    if number ==0:\n",
    "        return 0\n",
    "    else:\n",
    "        \n",
    "        return RecursiveSum(number -1)+ number\n",
    "\n",
    "print (RecursiveSum(5))   "
   ]
  },
  {
   "cell_type": "code",
   "execution_count": 12,
   "metadata": {},
   "outputs": [
    {
     "name": "stdout",
     "output_type": "stream",
     "text": [
      "12\n"
     ]
    }
   ],
   "source": [
    "def SumDigits(number):\n",
    "    \"\"\" Return the sum of digits of a number.\n",
    "        number: non-negative integer\n",
    "    \"\"\"\n",
    "\n",
    "    # Base Case\n",
    "    if number == 0:\n",
    "        return 0\n",
    "    else:\n",
    "        # Mod (%) by 10 gives you the rightmost digit (227 % 10 == 7), \n",
    "        # while doing integer division by 10 removes the rightmost \n",
    "        # digit (227 // 10 is 22)\n",
    "\n",
    "        return (number % 10) + SumDigits(number // 10)\n",
    "    \n",
    "print (SumDigits(57))"
   ]
  },
  {
   "cell_type": "code",
   "execution_count": 13,
   "metadata": {},
   "outputs": [
    {
     "data": {
      "text/plain": [
       "'scba'"
      ]
     },
     "execution_count": 13,
     "metadata": {},
     "output_type": "execute_result"
    }
   ],
   "source": [
    "#reverse a string using recursion\n",
    "\n",
    "def ReverseString(s):\n",
    "    # Base case\n",
    "    if(len(s)<=1):\n",
    "        return s\n",
    "    \n",
    "    #Recursion\n",
    "                # abc  calls bc + a\n",
    "    return ReverseString(s[1:]) + s[0]\n",
    "\n",
    "ReverseString (\"abcs\")"
   ]
  },
  {
   "cell_type": "code",
   "execution_count": null,
   "metadata": {
    "collapsed": true
   },
   "outputs": [],
   "source": [
    "# Permutation\n",
    "# 3 *2 *1  = 6 Permutations\n",
    "#abc, cba, acb, bca\n",
    "\n",
    "def Permutation(s):\n",
    "    #base case  If array has len(s) *\n",
    "    "
   ]
  },
  {
   "cell_type": "code",
   "execution_count": 27,
   "metadata": {},
   "outputs": [
    {
     "data": {
      "text/plain": [
       "125"
      ]
     },
     "execution_count": 27,
     "metadata": {},
     "output_type": "execute_result"
    }
   ],
   "source": [
    "# POWER\n",
    "class Solution:\n",
    "    def myPow(self, x, n):\n",
    "        if not n:\n",
    "            return 1\n",
    "        if n < 0:\n",
    "            return 1 / self.myPow(x, -n)\n",
    "        if n % 2:\n",
    "            return x * self.myPow(x, n-1)\n",
    "        return self.myPow(x*x, n/2)\n",
    "    \n",
    "   \n",
    "    \n",
    "s = Solution()\n",
    "s.myPow(5,3)\n"
   ]
  },
  {
   "cell_type": "code",
   "execution_count": 23,
   "metadata": {},
   "outputs": [
    {
     "ename": "IndentationError",
     "evalue": "unexpected indent (<ipython-input-23-2f27969f48d2>, line 8)",
     "output_type": "error",
     "traceback": [
      "\u001b[0;36m  File \u001b[0;32m\"<ipython-input-23-2f27969f48d2>\"\u001b[0;36m, line \u001b[0;32m8\u001b[0m\n\u001b[0;31m    print(temp)\u001b[0m\n\u001b[0m    ^\u001b[0m\n\u001b[0;31mIndentationError\u001b[0m\u001b[0;31m:\u001b[0m unexpected indent\n"
     ]
    }
   ],
   "source": [
    "#http://www.geeksforgeeks.org/write-a-c-program-to-calculate-powxn/\n",
    "# reduce OLogN by storing size -- ERROR\n",
    "def power(x, y):\n",
    "       \n",
    "        if y == 0:\n",
    "            return 1\n",
    "   \n",
    "\n",
    "        temp = power(x, y/2)\n",
    "         print(temp)\n",
    "        if y%2 == 0:\n",
    "            return temp*temp\n",
    "        else:\n",
    "            if y > 0:\n",
    "                return x*temp*temp;\n",
    "            else:\n",
    "                return (temp*temp)/x;"
   ]
  },
  {
   "cell_type": "code",
   "execution_count": 29,
   "metadata": {
    "collapsed": true
   },
   "outputs": [],
   "source": [
    "\"\"\"\n",
    "Problem Statement\n",
    "=================\n",
    "Given the number n, find the nth fibanacci number.\n",
    "The fibonacci series is 0, 1, 1, 2, 3 ...\n",
    "And follows the formula Fn = Fn-1 + Fn-2\n",
    "Complexity\n",
    "----------\n",
    "* Recursive Solution: O(2^n)\n",
    "* Dynamic Programming: O(n)\n",
    "\"\"\"\n",
    "\n",
    "\n",
    "def fibonacci_recursive(n):\n",
    "    if n == 0 or n == 1:\n",
    "        return n\n",
    "\n",
    "    return fibonacci_recursive(n - 1) + fibonacci_recursive(n - 2)\n",
    "\n",
    "\n",
    "def fibonacci(n):\n",
    "    n1, n2 = 0, 1\n",
    "\n",
    "    if n == n1 or n == n2:\n",
    "        return n\n",
    "\n",
    "    for i in range(2, n + 1):\n",
    "        n1, n2 = n2, n1 + n2\n",
    "\n",
    "    return n2\n"
   ]
  },
  {
   "cell_type": "code",
   "execution_count": 2,
   "metadata": {},
   "outputs": [
    {
     "data": {
      "text/plain": [
       "5"
      ]
     },
     "execution_count": 2,
     "metadata": {},
     "output_type": "execute_result"
    }
   ],
   "source": [
    "\"\"\"\n",
    "Complexity\n",
    "----------\n",
    "* Runtime Complexity: O(n)\n",
    "Reference\n",
    "---------\n",
    "* http://www.geeksforgeeks.org/count-number-binary-strings-without-consecutive-1s/\n",
    "\"\"\"\n",
    "\n",
    "\n",
    "def consec_one(num_n):\n",
    "    f1 = f2 = 1\n",
    "\n",
    "    for i in range(num_n):\n",
    "        f1, f2 = f1 + f2, f1\n",
    "\n",
    "    return f1\n",
    "\n",
    "consec_one(3)"
   ]
  },
  {
   "cell_type": "code",
   "execution_count": null,
   "metadata": {
    "collapsed": true
   },
   "outputs": [],
   "source": []
  }
 ],
 "metadata": {
  "kernelspec": {
   "display_name": "Python 3",
   "language": "python",
   "name": "python3"
  },
  "language_info": {
   "codemirror_mode": {
    "name": "ipython",
    "version": 3
   },
   "file_extension": ".py",
   "mimetype": "text/x-python",
   "name": "python",
   "nbconvert_exporter": "python",
   "pygments_lexer": "ipython3",
   "version": "3.6.1"
  }
 },
 "nbformat": 4,
 "nbformat_minor": 2
}

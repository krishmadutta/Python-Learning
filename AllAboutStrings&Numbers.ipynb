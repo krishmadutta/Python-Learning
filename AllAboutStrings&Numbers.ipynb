{
 "cells": [
  {
   "cell_type": "code",
   "execution_count": 1,
   "metadata": {
    "collapsed": true
   },
   "outputs": [],
   "source": [
    "# USA, Google, Apple true\n",
    "# FrenCh, funny false\n",
    "# Ascii 65-90 A-Z and 97-122 A-Z small\n",
    "# WHAT is O(N)??\n",
    "def DetectCaptial(stringInput):\n",
    "    \n",
    "    myString = stringInput\n",
    "    \n",
    "    if myString[0].isupper():\n",
    "       \n",
    "        if myString[1:].islower():  # First is CAP and rest small good\n",
    "            return True\n",
    "        elif myString[1:].isupper(): #All CAPS Good\n",
    "            return True\n",
    "        else:\n",
    "            return False\n",
    "       # Use Regex TODO\n",
    "    \n",
    "    "
   ]
  },
  {
   "cell_type": "code",
   "execution_count": 4,
   "metadata": {},
   "outputs": [
    {
     "data": {
      "text/plain": [
       "False"
      ]
     },
     "execution_count": 4,
     "metadata": {},
     "output_type": "execute_result"
    }
   ],
   "source": [
    "DetectCaptial(\"KriDshma\")"
   ]
  },
  {
   "cell_type": "code",
   "execution_count": 6,
   "metadata": {},
   "outputs": [
    {
     "data": {
      "text/plain": [
       "'\\'\\n[\\n  [\"ate\", \"eat\",\"tea\"],\\n  [\"nat\",\"tan\"],\\n  [\"bat\"]\\n]\\n'"
      ]
     },
     "execution_count": 6,
     "metadata": {},
     "output_type": "execute_result"
    }
   ],
   "source": [
    "#Given an array of strings, group anagrams together.\n",
    "#For example, given: [\"eat\", \"tea\", \"tan\", \"ate\", \"nat\", \"bat\"], \n",
    "\n",
    "#[\n",
    "#  [\"ate\", \"eat\",\"tea\"],\n",
    "#  [\"nat\",\"tan\"],\n",
    "#  [\"bat\"]\n",
    "#]\n",
    "\n",
    "# Algo \n",
    "# use Dictionary\n",
    "# ate => aet\n",
    "# eat => aet\n",
    "# tea => aet\n",
    "# tan => ant\n",
    "# nat => ant\n",
    "# bat => abt\n",
    "\n",
    "# check for  Loop through Unique (sorted vals) \n",
    "# list all the keys"
   ]
  },
  {
   "cell_type": "code",
   "execution_count": 16,
   "metadata": {},
   "outputs": [
    {
     "name": "stdout",
     "output_type": "stream",
     "text": [
      "['101', '111']\n"
     ]
    }
   ],
   "source": [
    "#Given a string containing of ‘0’, ‘1’ and ‘?’ wildcard characters,\n",
    "#generate all binary strings that can be formed by replacing each wildcard character \n",
    "# by ‘0’ or ‘1’. \n",
    "#http://onecodingproblem.com/2015/09/20/string-permutations-binary-with-question-marks/\n",
    "def compute_perms(in_string):\n",
    "    index = in_string.find('?')\n",
    "    if index < 0:\n",
    "        return [in_string]\n",
    "    branch1 = [(in_string[:index] + '0' + '{0}').format(i) for i in compute_perms(in_string[index+1:])]\n",
    "    branch2 = [(in_string[:index] + '1' + '{0}').format(i) for i in compute_perms(in_string[index+1:])]\n",
    "    return branch1 + branch2\n",
    "print (compute_perms(\"1?1\"))"
   ]
  },
  {
   "cell_type": "code",
   "execution_count": 19,
   "metadata": {},
   "outputs": [
    {
     "name": "stdout",
     "output_type": "stream",
     "text": [
      "STACK\n",
      "a\n"
     ]
    }
   ],
   "source": [
    "l = [83, 84, 65, 67, 75]\n",
    "s = \"\".join([chr(c) for c in l])\n",
    "print (s)\n",
    "#chr function\n",
    "print (chr(97))"
   ]
  },
  {
   "cell_type": "code",
   "execution_count": 34,
   "metadata": {},
   "outputs": [
    {
     "name": "stdout",
     "output_type": "stream",
     "text": [
      "9\n"
     ]
    }
   ],
   "source": [
    "#Given an integer, find the largest of the sum of two digits. \n",
    "#10923  O: 12\n",
    "#Google\n",
    "def SumDigits(digit):\n",
    "    # split it into array and find 2 elements O(N2)\n",
    "    # sort the digit sum first 2 elements\n",
    "    pass\n",
    "\n",
    "a = 12453\n",
    "sorted_digits = \"\".join(sorted(str(a),reverse=1))\n",
    "#print (sorted_digits)\n",
    "max_sum =  int (sorted_digits[0]) + int (sorted_digits[1])\n",
    "print (max_sum)\n",
    "\n",
    "\n"
   ]
  },
  {
   "cell_type": "code",
   "execution_count": null,
   "metadata": {
    "collapsed": true
   },
   "outputs": [],
   "source": []
  },
  {
   "cell_type": "code",
   "execution_count": 40,
   "metadata": {},
   "outputs": [
    {
     "name": "stdout",
     "output_type": "stream",
     "text": [
      "True\n"
     ]
    }
   ],
   "source": [
    "#Given a string containing just the characters '(', ')', '{', '}', '[' and ']',\n",
    "#Determine if the input string is valid.\n",
    "def isValid(s):\n",
    "        stack = []\n",
    "        # dictionary with all the  types of brackets ..Key as closing brace\n",
    "        dict = {\"]\":\"[\", \"}\":\"{\", \")\":\"(\"}\n",
    "        for char in s:\n",
    "            if char in dict.values():\n",
    "                stack.append(char)\n",
    "            elif char in dict.keys():\n",
    "                if stack == [] or dict[char] != stack.pop():\n",
    "                    return False\n",
    "            else:\n",
    "                return False\n",
    "        return stack == []\n",
    "    \n",
    "s = \"{{[()]}}\"\n",
    "print (isValid(s))"
   ]
  },
  {
   "cell_type": "code",
   "execution_count": 42,
   "metadata": {
    "collapsed": true
   },
   "outputs": [],
   "source": [
    "#add digits of number\n",
    "#1. \n",
    "def first_way(n):\n",
    "    stringified_num = str(n)\n",
    "    ans = 0\n",
    "    for digit in stringified_num:\n",
    "        ans += int(digit)\n",
    "    return ans\n",
    "\n",
    "def second_way_iterative(n):\n",
    "    ans = 0\n",
    "    while n > 0:\n",
    "        ans += n % 10\n",
    "        n = n/10\n",
    "    return ans\n",
    "\n",
    "def recursive_way(n):\n",
    "    if n == 0:\n",
    "        return 0\n",
    "    return (n % 10) + second_way(n/10)"
   ]
  },
  {
   "cell_type": "code",
   "execution_count": 43,
   "metadata": {},
   "outputs": [
    {
     "name": "stdout",
     "output_type": "stream",
     "text": [
      "15\n"
     ]
    }
   ],
   "source": [
    "print (first_way(12345))"
   ]
  },
  {
   "cell_type": "code",
   "execution_count": 20,
   "metadata": {},
   "outputs": [
    {
     "data": {
      "text/plain": [
       "True"
      ]
     },
     "execution_count": 20,
     "metadata": {},
     "output_type": "execute_result"
    }
   ],
   "source": [
    "\n",
    "#Google\n",
    "#Palindrome\n",
    "#Write a function to return a palindromic permutation of a string. \n",
    "\n",
    "def checkPalindrome(stringInput):  # O(N/2)\n",
    "    if len(stringInput) <= 1:\n",
    "        return Fales\n",
    "    pivot = len(stringInput)//2   #returns whole number\n",
    "    pre = stringInput[:pivot];    # returns string begining : \n",
    "    post  = stringInput[pivot+1:]; \n",
    "    \n",
    "    if  pre.lower() == post[::-1].lower() :  # Convert to lower case/upper\n",
    "        return True\n",
    "    else:\n",
    "        return False\n",
    "\n",
    "def \n",
    "    \n",
    "checkPalindrome(\"Kayak\")"
   ]
  },
  {
   "cell_type": "code",
   "execution_count": 2,
   "metadata": {},
   "outputs": [
    {
     "ename": "AttributeError",
     "evalue": "'list' object has no attribute 'start'",
     "output_type": "error",
     "traceback": [
      "\u001b[0;31m---------------------------------------------------------------------------\u001b[0m",
      "\u001b[0;31mAttributeError\u001b[0m                            Traceback (most recent call last)",
      "\u001b[0;32m<ipython-input-2-74800c424f80>\u001b[0m in \u001b[0;36m<module>\u001b[0;34m()\u001b[0m\n\u001b[1;32m     14\u001b[0m \u001b[0;34m\u001b[0m\u001b[0m\n\u001b[1;32m     15\u001b[0m \u001b[0marr\u001b[0m \u001b[0;34m=\u001b[0m \u001b[0;34m[\u001b[0m\u001b[0;34m[\u001b[0m\u001b[0;36m1\u001b[0m\u001b[0;34m,\u001b[0m\u001b[0;36m2\u001b[0m\u001b[0;34m]\u001b[0m\u001b[0;34m,\u001b[0m\u001b[0;34m[\u001b[0m\u001b[0;36m3\u001b[0m\u001b[0;34m,\u001b[0m\u001b[0;36m6\u001b[0m\u001b[0;34m]\u001b[0m\u001b[0;34m,\u001b[0m\u001b[0;34m[\u001b[0m\u001b[0;36m8\u001b[0m\u001b[0;34m,\u001b[0m\u001b[0;36m10\u001b[0m\u001b[0;34m]\u001b[0m\u001b[0;34m]\u001b[0m\u001b[0;34m\u001b[0m\u001b[0m\n\u001b[0;32m---> 16\u001b[0;31m \u001b[0mmerge\u001b[0m\u001b[0;34m(\u001b[0m\u001b[0marr\u001b[0m\u001b[0;34m)\u001b[0m\u001b[0;34m\u001b[0m\u001b[0m\n\u001b[0m",
      "\u001b[0;32m<ipython-input-2-74800c424f80>\u001b[0m in \u001b[0;36mmerge\u001b[0;34m(intervals)\u001b[0m\n\u001b[1;32m      3\u001b[0m             \u001b[0;32mreturn\u001b[0m \u001b[0;34m[\u001b[0m\u001b[0;34m]\u001b[0m\u001b[0;34m\u001b[0m\u001b[0m\n\u001b[1;32m      4\u001b[0m \u001b[0;34m\u001b[0m\u001b[0m\n\u001b[0;32m----> 5\u001b[0;31m         \u001b[0mintervals\u001b[0m\u001b[0;34m.\u001b[0m\u001b[0msort\u001b[0m\u001b[0;34m(\u001b[0m\u001b[0mkey\u001b[0m \u001b[0;34m=\u001b[0m \u001b[0;32mlambda\u001b[0m \u001b[0mx\u001b[0m\u001b[0;34m:\u001b[0m \u001b[0;34m(\u001b[0m\u001b[0mx\u001b[0m\u001b[0;34m.\u001b[0m\u001b[0mstart\u001b[0m\u001b[0;34m,\u001b[0m \u001b[0mx\u001b[0m\u001b[0;34m.\u001b[0m\u001b[0mend\u001b[0m\u001b[0;34m)\u001b[0m\u001b[0;34m)\u001b[0m\u001b[0;34m\u001b[0m\u001b[0m\n\u001b[0m\u001b[1;32m      6\u001b[0m         \u001b[0mresult\u001b[0m \u001b[0;34m=\u001b[0m \u001b[0;34m[\u001b[0m\u001b[0mintervals\u001b[0m\u001b[0;34m[\u001b[0m\u001b[0;36m0\u001b[0m\u001b[0;34m]\u001b[0m\u001b[0;34m]\u001b[0m\u001b[0;34m\u001b[0m\u001b[0m\n\u001b[1;32m      7\u001b[0m         \u001b[0;32mfor\u001b[0m \u001b[0minterval\u001b[0m \u001b[0;32min\u001b[0m \u001b[0mintervals\u001b[0m\u001b[0;34m[\u001b[0m\u001b[0;36m1\u001b[0m\u001b[0;34m:\u001b[0m\u001b[0;34m]\u001b[0m\u001b[0;34m:\u001b[0m\u001b[0;34m\u001b[0m\u001b[0m\n",
      "\u001b[0;32m<ipython-input-2-74800c424f80>\u001b[0m in \u001b[0;36m<lambda>\u001b[0;34m(x)\u001b[0m\n\u001b[1;32m      3\u001b[0m             \u001b[0;32mreturn\u001b[0m \u001b[0;34m[\u001b[0m\u001b[0;34m]\u001b[0m\u001b[0;34m\u001b[0m\u001b[0m\n\u001b[1;32m      4\u001b[0m \u001b[0;34m\u001b[0m\u001b[0m\n\u001b[0;32m----> 5\u001b[0;31m         \u001b[0mintervals\u001b[0m\u001b[0;34m.\u001b[0m\u001b[0msort\u001b[0m\u001b[0;34m(\u001b[0m\u001b[0mkey\u001b[0m \u001b[0;34m=\u001b[0m \u001b[0;32mlambda\u001b[0m \u001b[0mx\u001b[0m\u001b[0;34m:\u001b[0m \u001b[0;34m(\u001b[0m\u001b[0mx\u001b[0m\u001b[0;34m.\u001b[0m\u001b[0mstart\u001b[0m\u001b[0;34m,\u001b[0m \u001b[0mx\u001b[0m\u001b[0;34m.\u001b[0m\u001b[0mend\u001b[0m\u001b[0;34m)\u001b[0m\u001b[0;34m)\u001b[0m\u001b[0;34m\u001b[0m\u001b[0m\n\u001b[0m\u001b[1;32m      6\u001b[0m         \u001b[0mresult\u001b[0m \u001b[0;34m=\u001b[0m \u001b[0;34m[\u001b[0m\u001b[0mintervals\u001b[0m\u001b[0;34m[\u001b[0m\u001b[0;36m0\u001b[0m\u001b[0;34m]\u001b[0m\u001b[0;34m]\u001b[0m\u001b[0;34m\u001b[0m\u001b[0m\n\u001b[1;32m      7\u001b[0m         \u001b[0;32mfor\u001b[0m \u001b[0minterval\u001b[0m \u001b[0;32min\u001b[0m \u001b[0mintervals\u001b[0m\u001b[0;34m[\u001b[0m\u001b[0;36m1\u001b[0m\u001b[0;34m:\u001b[0m\u001b[0;34m]\u001b[0m\u001b[0;34m:\u001b[0m\u001b[0;34m\u001b[0m\u001b[0m\n",
      "\u001b[0;31mAttributeError\u001b[0m: 'list' object has no attribute 'start'"
     ]
    }
   ],
   "source": []
  },
  {
   "cell_type": "code",
   "execution_count": 30,
   "metadata": {},
   "outputs": [
    {
     "data": {
      "text/plain": [
       "True"
      ]
     },
     "execution_count": 30,
     "metadata": {},
     "output_type": "execute_result"
    }
   ],
   "source": [
    "#given a number, write a function to determine if the number is a power of 7  \n",
    "\n",
    "def checkPowerofSeven(n):\n",
    "    if n < 1:\n",
    "        return False\n",
    "    \n",
    "    while(n%7==0):\n",
    "        n = n /7\n",
    "    \n",
    "    if n ==1:\n",
    "        return True\n",
    "    else:\n",
    "        return False\n",
    "    \n",
    "checkPowerofSeven(49)\n",
    "\n"
   ]
  },
  {
   "cell_type": "code",
   "execution_count": 51,
   "metadata": {},
   "outputs": [
    {
     "data": {
      "text/plain": [
       "['ca', 'ca']"
      ]
     },
     "execution_count": 51,
     "metadata": {},
     "output_type": "execute_result"
    }
   ],
   "source": [
    "#Google\n",
    "#possible string permutations\n",
    "#abc acb ... Fails when item is repeated\n",
    "\n",
    "def permutationString(s):\n",
    "    permutation_list =[]\n",
    "    if len(s)==1:\n",
    "        return s\n",
    "    else:\n",
    "        for char in s:\n",
    "            [permutation_list.append(char + a) \n",
    "             for a in permutationString(s.replace(char, \"\"))]\n",
    "    \n",
    "    return permutation_list\n",
    "\n",
    "permutationString(\"acc\")"
   ]
  },
  {
   "cell_type": "code",
   "execution_count": 10,
   "metadata": {},
   "outputs": [
    {
     "data": {
      "text/plain": [
       "[['c', 'b', 'a'],\n",
       " ['b', 'c', 'a'],\n",
       " ['b', 'a', 'c'],\n",
       " ['c', 'a', 'b'],\n",
       " ['a', 'c', 'b'],\n",
       " ['a', 'b', 'c']]"
      ]
     },
     "execution_count": 10,
     "metadata": {},
     "output_type": "execute_result"
    }
   ],
   "source": [
    "# DFS\n",
    "def permute(nums):\n",
    "    perms = [[]]   \n",
    "    for n in nums:\n",
    "        new_perms = []\n",
    "        for perm in perms:\n",
    "            for i in range(len(perm)+1):   \n",
    "                #print(perm[:i], [n] ,perm[i:])\n",
    "                new_perms.append(perm[:i] + [n] + perm[i:])   ###insert n\n",
    "        perms = new_perms\n",
    "    return perms\n",
    "        \n",
    "permute(\"abc\")"
   ]
  },
  {
   "cell_type": "code",
   "execution_count": null,
   "metadata": {
    "collapsed": true
   },
   "outputs": [],
   "source": []
  },
  {
   "cell_type": "code",
   "execution_count": null,
   "metadata": {
    "collapsed": true
   },
   "outputs": [],
   "source": []
  },
  {
   "cell_type": "code",
   "execution_count": 37,
   "metadata": {},
   "outputs": [
    {
     "data": {
      "text/plain": [
       "5"
      ]
     },
     "execution_count": 37,
     "metadata": {},
     "output_type": "execute_result"
    }
   ],
   "source": [
    "#Google\n",
    "#Fibonicci\n",
    "#1,1,2,3,5,...\n",
    "\n",
    "def fib(n):\n",
    "    if n ==0:\n",
    "        return 0\n",
    "    elif n==1:\n",
    "        return 1\n",
    "    else:\n",
    "        return fib(n-1) + fib(n-2)\n",
    "\n",
    "fib(5)\n"
   ]
  },
  {
   "cell_type": "code",
   "execution_count": 41,
   "metadata": {},
   "outputs": [
    {
     "data": {
      "text/plain": [
       "24"
      ]
     },
     "execution_count": 41,
     "metadata": {},
     "output_type": "execute_result"
    }
   ],
   "source": [
    "#Google\n",
    "#Factorial\n",
    "# 5*4*3*2*1\n",
    "\n",
    "def factorial(n):\n",
    "    if n<0:\n",
    "        return False\n",
    "    elif n ==1:\n",
    "        return 1\n",
    "    else:\n",
    "        return n * factorial(n-1)\n",
    "        \n",
    "factorial(4)"
   ]
  },
  {
   "cell_type": "code",
   "execution_count": null,
   "metadata": {
    "collapsed": true
   },
   "outputs": [],
   "source": [
    "#Google\n",
    "#http://practice.geeksforgeeks.org/problems/find-median-in-a-stream/0\n",
    "#Median"
   ]
  },
  {
   "cell_type": "code",
   "execution_count": null,
   "metadata": {
    "collapsed": true
   },
   "outputs": [],
   "source": []
  },
  {
   "cell_type": "code",
   "execution_count": null,
   "metadata": {
    "collapsed": true
   },
   "outputs": [],
   "source": [
    " #Given a sentence remove all tokens from it if the reverse of that token occurs previously in it .\n",
    "# ex The cat and rat tac tar = the cat and rat \n",
    "# Add to hash\n",
    "# Word[key] and Rerverse[Value]   check before entry within hash once complete list\n",
    "# the => eht\n",
    "\n",
    "\n"
   ]
  },
  {
   "cell_type": "code",
   "execution_count": null,
   "metadata": {
    "collapsed": true
   },
   "outputs": [],
   "source": [
    "#Google\n",
    "#Write some codes to convert a string to its ascii codes"
   ]
  },
  {
   "cell_type": "code",
   "execution_count": 7,
   "metadata": {},
   "outputs": [
    {
     "data": {
      "text/plain": [
       "True"
      ]
     },
     "execution_count": 7,
     "metadata": {},
     "output_type": "execute_result"
    }
   ],
   "source": [
    "class Solution(object):\n",
    "    def isPowerOfThree(self, n):\n",
    "        \"\"\"\n",
    "        :type n: int\n",
    "        :rtype: bool\n",
    "        \"\"\"\n",
    "        if n < 1:\n",
    "            return False\n",
    "        \n",
    "        while(n%3==0):\n",
    "            n = n/3\n",
    "        \n",
    "        if(n==1):\n",
    "            return True\n",
    "        else:\n",
    "            return False\n",
    "    \n",
    "s = Solution()\n",
    "\n",
    "s.isPowerOfThree(9)"
   ]
  },
  {
   "cell_type": "code",
   "execution_count": null,
   "metadata": {
    "collapsed": true
   },
   "outputs": [],
   "source": [
    "#A string consists of ‘0’, ‘1’ and '?'. \n",
    "#The question mark can be either '0' or '1'. Find all possible combinations for a string\n",
    "# 1?0\n",
    "\n",
    "def combination(s):\n",
    "        \n"
   ]
  },
  {
   "cell_type": "code",
   "execution_count": 27,
   "metadata": {},
   "outputs": [
    {
     "data": {
      "text/plain": [
       "'bca'"
      ]
     },
     "execution_count": 27,
     "metadata": {},
     "output_type": "execute_result"
    }
   ],
   "source": [
    "import re\n",
    "\n",
    "\n",
    "def removeDuplicateChar(s):\n",
    "    \n",
    "    myDict = {}\n",
    "    for char in s:\n",
    "        if char not in myDict:\n",
    "            myDict[char] = char\n",
    "    \n",
    "    s = \"\"\n",
    "    for vals in myDict:\n",
    "        s = s + vals\n",
    "  \n",
    "    return s\n",
    "\n",
    "\n",
    "removeDuplicateChar(\"bcabc\")\n"
   ]
  },
  {
   "cell_type": "code",
   "execution_count": 8,
   "metadata": {},
   "outputs": [
    {
     "data": {
      "text/plain": [
       "'hilluoe'"
      ]
     },
     "execution_count": 8,
     "metadata": {},
     "output_type": "execute_result"
    }
   ],
   "source": [
    "#Write a function that takes a string as input and reverse only the vowels of a string\n",
    "#aeiou\n",
    "#hello   if hello =>\n",
    "\n",
    "def reverse_vowels(s):\n",
    "    s = list(s)    # <======\n",
    "    i = 0\n",
    "    j = len(s) -1\n",
    "    \n",
    "    while i < j:\n",
    "        if not is_vowel(s[i]):\n",
    "            i = i + 1\n",
    "            continue\n",
    "        \n",
    "        if not is_vowel(s[j]):\n",
    "            j = j - 1\n",
    "            continue\n",
    "            \n",
    "        temp = s[i]\n",
    "        s[i]= s[j]\n",
    "        s[j] = temp\n",
    "        \n",
    "        i = i + 1\n",
    "        j = j - 1\n",
    "        \n",
    "    return ''.join(s)\n",
    "    \n",
    "    \n",
    "def is_vowel(char):\n",
    "    vow = ['a','e','i','o','u','A','E','I','O','U']\n",
    "    if char in vow:\n",
    "        return True\n",
    "    else:\n",
    "        return False\n",
    "    \n",
    "reverse_vowels('helloui')"
   ]
  },
  {
   "cell_type": "code",
   "execution_count": 21,
   "metadata": {
    "collapsed": true
   },
   "outputs": [],
   "source": []
  },
  {
   "cell_type": "code",
   "execution_count": 22,
   "metadata": {},
   "outputs": [
    {
     "data": {
      "text/plain": [
       "8"
      ]
     },
     "execution_count": 22,
     "metadata": {},
     "output_type": "execute_result"
    }
   ],
   "source": []
  },
  {
   "cell_type": "code",
   "execution_count": 19,
   "metadata": {
    "collapsed": true
   },
   "outputs": [],
   "source": [
    " def myPow(x, n):\n",
    "        if  n ==0:\n",
    "            return 1\n",
    "        if n < 0:\n",
    "            return 1 / myPow(x, -n)\n",
    "        if n % 2:\n",
    "            return x * myPow(x, n-1)\n",
    "        return myPow(x*x, n/2)\n"
   ]
  },
  {
   "cell_type": "code",
   "execution_count": 25,
   "metadata": {},
   "outputs": [
    {
     "data": {
      "text/plain": [
       "0.25"
      ]
     },
     "execution_count": 25,
     "metadata": {},
     "output_type": "execute_result"
    }
   ],
   "source": [
    "myPow(2,-2)"
   ]
  },
  {
   "cell_type": "code",
   "execution_count": null,
   "metadata": {
    "collapsed": true
   },
   "outputs": [],
   "source": []
  }
 ],
 "metadata": {
  "kernelspec": {
   "display_name": "Python 3",
   "language": "python",
   "name": "python3"
  },
  "language_info": {
   "codemirror_mode": {
    "name": "ipython",
    "version": 3
   },
   "file_extension": ".py",
   "mimetype": "text/x-python",
   "name": "python",
   "nbconvert_exporter": "python",
   "pygments_lexer": "ipython3",
   "version": "3.6.1"
  }
 },
 "nbformat": 4,
 "nbformat_minor": 2
}

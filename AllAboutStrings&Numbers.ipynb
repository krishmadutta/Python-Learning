{
 "cells": [
  {
   "cell_type": "markdown",
   "metadata": {},
   "source": [
    "String Functions\n",
    "\n",
    "Substring:\n",
    "s[start:end]\n",
    "\n",
    "Reverse:\n",
    "s[::-1]\n",
    "\n",
    "Sort:\n",
    "''.join(sorted(s))\n",
    "\n",
    "Replace:\n",
    "\n",
    "s.replace('find','replace')\n",
    "\n",
    "\n",
    "Remove Element:\n"
   ]
  },
  {
   "cell_type": "code",
   "execution_count": 103,
   "metadata": {},
   "outputs": [
    {
     "name": "stdout",
     "output_type": "stream",
     "text": [
      "Krishm\n",
      "K\n",
      "rishma Dutta\n",
      "rishma Dutt\n",
      "attuD amhsirK\n",
      "Brishma Dutta\n"
     ]
    },
    {
     "data": {
      "text/plain": [
       "'Krishma'"
      ]
     },
     "execution_count": 103,
     "metadata": {},
     "output_type": "execute_result"
    }
   ],
   "source": [
    "s =\"Krishma Dutta\"\n",
    "mid = len(s)//2\n",
    "print(s[0:mid])\n",
    "print (s[:1])\n",
    "print (s[1:])\n",
    "print (s[1:-1])\n",
    "print (s[::-1])\n",
    "print(s.replace('K','B'))\n",
    "s.split()[0]"
   ]
  },
  {
   "cell_type": "code",
   "execution_count": 1,
   "metadata": {
    "collapsed": true
   },
   "outputs": [],
   "source": [
    "# USA, Google, Apple true\n",
    "# FrenCh, funny false\n",
    "# Ascii 65-90 A-Z and 97-122 A-Z small\n",
    "# WHAT is O(N)??\n",
    "def DetectCaptial(stringInput):\n",
    "    \n",
    "    myString = stringInput\n",
    "    \n",
    "    if myString[0].isupper():\n",
    "       \n",
    "        if myString[1:].islower():  # First is CAP and rest small good\n",
    "            return True\n",
    "        elif myString[1:].isupper(): #All CAPS Good\n",
    "            return True\n",
    "        else:\n",
    "            return False\n",
    "       # Use Regex TODO\n",
    "    \n",
    "    "
   ]
  },
  {
   "cell_type": "code",
   "execution_count": 4,
   "metadata": {},
   "outputs": [
    {
     "data": {
      "text/plain": [
       "False"
      ]
     },
     "execution_count": 4,
     "metadata": {},
     "output_type": "execute_result"
    }
   ],
   "source": [
    "DetectCaptial(\"KriDshma\")"
   ]
  },
  {
   "cell_type": "code",
   "execution_count": 6,
   "metadata": {},
   "outputs": [
    {
     "data": {
      "text/plain": [
       "'\\'\\n[\\n  [\"ate\", \"eat\",\"tea\"],\\n  [\"nat\",\"tan\"],\\n  [\"bat\"]\\n]\\n'"
      ]
     },
     "execution_count": 6,
     "metadata": {},
     "output_type": "execute_result"
    }
   ],
   "source": [
    "#Given an array of strings, group anagrams together.\n",
    "#For example, given: [\"eat\", \"tea\", \"tan\", \"ate\", \"nat\", \"bat\"], \n",
    "\n",
    "#[\n",
    "#  [\"ate\", \"eat\",\"tea\"],\n",
    "#  [\"nat\",\"tan\"],\n",
    "#  [\"bat\"]\n",
    "#]\n",
    "\n",
    "# Algo \n",
    "# use Dictionary\n",
    "# ate => aet\n",
    "# eat => aet\n",
    "# tea => aet\n",
    "# tan => ant\n",
    "# nat => ant\n",
    "# bat => abt\n",
    "\n",
    "# check for  Loop through Unique (sorted vals) \n",
    "# list all the keys"
   ]
  },
  {
   "cell_type": "code",
   "execution_count": 66,
   "metadata": {},
   "outputs": [
    {
     "name": "stdout",
     "output_type": "stream",
     "text": [
      "['1010?01', '1011?11']\n"
     ]
    }
   ],
   "source": [
    "#Given a string containing of ‘0’, ‘1’ and ‘?’ wildcard characters,\n",
    "#generate all binary strings that can be formed by replacing each wildcard character \n",
    "# by ‘0’ or ‘1’. \n",
    "#http://onecodingproblem.com/2015/09/20/string-permutations-binary-with-question-marks/\n",
    "def compute_perms(in_string):\n",
    "    index = in_string.find('?')\n",
    "    if index < 0:\n",
    "        return [in_string]\n",
    "    branch1 = [(in_string[:index] + '0' + '{0}').format(i) for i in compute_perms(in_string[index+1:])]\n",
    "    branch2 = [(in_string[:index] + '1' + '{0}').format(i) for i in compute_perms(in_string[index+1:])]\n",
    "    return branch1 + branch2\n",
    "\n",
    "\n",
    "#Iterative (NOT WORKING)\n",
    "def compute_all_results_mine(the_string):\n",
    "    results = [\"0\", \"1\"] if the_string[0] == \"?\" else [the_string[0]]\n",
    " \n",
    "    for char in the_string[1:]:\n",
    "        if (char == \"?\"):\n",
    "            results = results * 2\n",
    "        for idx in range(len(results)):\n",
    "            if (idx < len(results) / 2):\n",
    "                results[idx] += \"0\"\n",
    "            else:\n",
    "                results[idx] += \"1\"\n",
    "        else:\n",
    "            for idx in range(len(results)):\n",
    "                results[idx] += char\n",
    "\n",
    "    return results\n",
    "\n",
    "print (compute_all_results_mine(\"11?1\"))\n"
   ]
  },
  {
   "cell_type": "code",
   "execution_count": 19,
   "metadata": {},
   "outputs": [
    {
     "name": "stdout",
     "output_type": "stream",
     "text": [
      "STACK\n",
      "a\n"
     ]
    }
   ],
   "source": [
    "l = [83, 84, 65, 67, 75]\n",
    "s = \"\".join([chr(c) for c in l])\n",
    "print (s)\n",
    "#chr function\n",
    "print (chr(97))"
   ]
  },
  {
   "cell_type": "code",
   "execution_count": 34,
   "metadata": {},
   "outputs": [
    {
     "name": "stdout",
     "output_type": "stream",
     "text": [
      "9\n"
     ]
    }
   ],
   "source": [
    "#Given an integer, find the largest of the sum of two digits. \n",
    "#10923  O: 12\n",
    "#Google\n",
    "def SumDigits(digit):\n",
    "    # split it into array and find 2 elements O(N2)\n",
    "    # sort the digit sum first 2 elements\n",
    "    pass\n",
    "\n",
    "a = 12453\n",
    "sorted_digits = \"\".join(sorted(str(a),reverse=1))\n",
    "#print (sorted_digits)\n",
    "max_sum =  int (sorted_digits[0]) + int (sorted_digits[1])\n",
    "print (max_sum)\n",
    "\n",
    "\n"
   ]
  },
  {
   "cell_type": "code",
   "execution_count": null,
   "metadata": {
    "collapsed": true
   },
   "outputs": [],
   "source": []
  },
  {
   "cell_type": "code",
   "execution_count": 40,
   "metadata": {},
   "outputs": [
    {
     "name": "stdout",
     "output_type": "stream",
     "text": [
      "True\n"
     ]
    }
   ],
   "source": [
    "#Given a string containing just the characters '(', ')', '{', '}', '[' and ']',\n",
    "#Determine if the input string is valid.\n",
    "def isValid(s):\n",
    "        stack = []\n",
    "        # dictionary with all the  types of brackets ..Key as closing brace\n",
    "        dict = {\"]\":\"[\", \"}\":\"{\", \")\":\"(\"}\n",
    "        for char in s:\n",
    "            if char in dict.values():\n",
    "                stack.append(char)\n",
    "            elif char in dict.keys():\n",
    "                if stack == [] or dict[char] != stack.pop():\n",
    "                    return False\n",
    "            else:\n",
    "                return False\n",
    "        return stack == []\n",
    "    \n",
    "s = \"{{[()]}}\"\n",
    "print (isValid(s))"
   ]
  },
  {
   "cell_type": "code",
   "execution_count": 42,
   "metadata": {
    "collapsed": true
   },
   "outputs": [],
   "source": [
    "#add digits of number\n",
    "#1. \n",
    "def first_way(n):\n",
    "    stringified_num = str(n)\n",
    "    ans = 0\n",
    "    for digit in stringified_num:\n",
    "        ans += int(digit)\n",
    "    return ans\n",
    "\n",
    "def second_way_iterative(n):\n",
    "    ans = 0\n",
    "    while n > 0:\n",
    "        ans += n % 10\n",
    "        n = n/10\n",
    "    return ans\n",
    "\n",
    "def recursive_way(n):\n",
    "    if n == 0:\n",
    "        return 0\n",
    "    return (n % 10) + recursive_way(n/10)"
   ]
  },
  {
   "cell_type": "code",
   "execution_count": 43,
   "metadata": {},
   "outputs": [
    {
     "name": "stdout",
     "output_type": "stream",
     "text": [
      "15\n"
     ]
    }
   ],
   "source": [
    "print (first_way(12345))"
   ]
  },
  {
   "cell_type": "code",
   "execution_count": 20,
   "metadata": {},
   "outputs": [
    {
     "data": {
      "text/plain": [
       "True"
      ]
     },
     "execution_count": 20,
     "metadata": {},
     "output_type": "execute_result"
    }
   ],
   "source": [
    "\n",
    "#Google\n",
    "#Palindrome\n",
    "#Write a function to return a palindromic permutation of a string. \n",
    "\n",
    "def checkPalindrome(stringInput):  # O(N/2)\n",
    "    if len(stringInput) <= 1:\n",
    "        return Fales\n",
    "    pivot = len(stringInput)//2   #returns whole number\n",
    "    pre = stringInput[:pivot];    # returns string begining : \n",
    "    post  = stringInput[pivot+1:]; \n",
    "    \n",
    "    if  pre.lower() == post[::-1].lower() :  # Convert to lower case/upper\n",
    "        return True\n",
    "    else:\n",
    "        return False\n",
    "\n",
    "def \n",
    "    \n",
    "checkPalindrome(\"Kayak\")"
   ]
  },
  {
   "cell_type": "code",
   "execution_count": 30,
   "metadata": {},
   "outputs": [
    {
     "data": {
      "text/plain": [
       "True"
      ]
     },
     "execution_count": 30,
     "metadata": {},
     "output_type": "execute_result"
    }
   ],
   "source": [
    "#given a number, write a function to determine if the number is a power of 7  \n",
    "# if number divedes by N all the way that reminder =1 the its power 49/7 = 7  7/7=1  Yes!\n",
    "def checkPowerofSeven(n):\n",
    "    if n < 1:\n",
    "        return False\n",
    "    \n",
    "    while(n%7==0):\n",
    "        n = n /7\n",
    "    \n",
    "    if n ==1:\n",
    "        return True\n",
    "    else:\n",
    "        return False\n",
    "    \n",
    "checkPowerofSeven(49)\n",
    "\n"
   ]
  },
  {
   "cell_type": "code",
   "execution_count": 65,
   "metadata": {},
   "outputs": [
    {
     "data": {
      "text/plain": [
       "[['e', 'l', 'g'],\n",
       " ['l', 'e', 'g'],\n",
       " ['l', 'g', 'e'],\n",
       " ['e', 'g', 'l'],\n",
       " ['g', 'e', 'l'],\n",
       " ['g', 'l', 'e']]"
      ]
     },
     "execution_count": 65,
     "metadata": {},
     "output_type": "execute_result"
    }
   ],
   "source": [
    "# DFS\n",
    "def permute(nums):\n",
    "    perms = [[]]   \n",
    "    for n in nums:\n",
    "        new_perms = []\n",
    "        for perm in perms:\n",
    "            for i in range(len(perm)+1):   \n",
    "                #print(perm[:i], [n] ,perm[i:])\n",
    "                new_perms.append(perm[:i] + [n] + perm[i:])   ###insert n\n",
    "        perms = new_perms\n",
    "    return (perms)\n",
    "        \n",
    "permute(\"gle\")"
   ]
  },
  {
   "cell_type": "code",
   "execution_count": 37,
   "metadata": {},
   "outputs": [
    {
     "data": {
      "text/plain": [
       "5"
      ]
     },
     "execution_count": 37,
     "metadata": {},
     "output_type": "execute_result"
    }
   ],
   "source": [
    "#Google\n",
    "#Fibonicci\n",
    "#1,1,2,3,5,...\n",
    "\n",
    "def fib(n):\n",
    "    if n ==0:\n",
    "        return 0\n",
    "    elif n==1:\n",
    "        return 1\n",
    "    else:\n",
    "        return fib(n-1) + fib(n-2)\n",
    "\n",
    "fib(5)\n"
   ]
  },
  {
   "cell_type": "code",
   "execution_count": 41,
   "metadata": {},
   "outputs": [
    {
     "data": {
      "text/plain": [
       "24"
      ]
     },
     "execution_count": 41,
     "metadata": {},
     "output_type": "execute_result"
    }
   ],
   "source": [
    "#Google\n",
    "#Factorial\n",
    "# 5*4*3*2*1\n",
    "\n",
    "def factorial(n):\n",
    "    if n<0:\n",
    "        return False\n",
    "    elif n ==1:\n",
    "        return 1\n",
    "    else:\n",
    "        return n * factorial(n-1)\n",
    "        \n",
    "factorial(4)"
   ]
  },
  {
   "cell_type": "code",
   "execution_count": null,
   "metadata": {
    "collapsed": true
   },
   "outputs": [],
   "source": [
    "#Google\n",
    "#http://practice.geeksforgeeks.org/problems/find-median-in-a-stream/0\n",
    "#Median"
   ]
  },
  {
   "cell_type": "code",
   "execution_count": null,
   "metadata": {
    "collapsed": true
   },
   "outputs": [],
   "source": []
  },
  {
   "cell_type": "code",
   "execution_count": 63,
   "metadata": {},
   "outputs": [
    {
     "name": "stdout",
     "output_type": "stream",
     "text": [
      " the cat and rat\n"
     ]
    }
   ],
   "source": [
    " #Given a sentence remove all tokens from it if the reverse of that token occurs previously in it .\n",
    "# ex The cat and rat tac tar = the cat and rat \n",
    "# Add to hash\n",
    "# Word[key] and Rerverse[Value]   check before entry within hash once complete list\n",
    "# the => eht\n",
    "\n",
    "def remove_tokens(s):\n",
    "    if len(s) < 1:\n",
    "        return False\n",
    "    \n",
    "    m_str = s.lower().split()\n",
    "    mDict  = {}\n",
    "    \n",
    "    for word in m_str:\n",
    "        if word[::-1] not in mDict.values():\n",
    "            mDict[word] = word\n",
    "    ret_str=''\n",
    "    for key in mDict:\n",
    "        ret_str = ret_str + \" \"+ key \n",
    "    print(ret_str)\n",
    "\n",
    "    return mDict\n",
    "            \n",
    "\n",
    "\n",
    "if __name__ == '__main__':\n",
    "    remove_tokens(\"The cat and rat tac tar\")\n",
    "\n"
   ]
  },
  {
   "cell_type": "code",
   "execution_count": 60,
   "metadata": {
    "collapsed": true
   },
   "outputs": [],
   "source": [
    "#Google\n",
    "#Write some codes to convert a string to its ascii codes"
   ]
  },
  {
   "cell_type": "code",
   "execution_count": 7,
   "metadata": {},
   "outputs": [
    {
     "data": {
      "text/plain": [
       "True"
      ]
     },
     "execution_count": 7,
     "metadata": {},
     "output_type": "execute_result"
    }
   ],
   "source": [
    "class Solution(object):\n",
    "    def isPowerOfThree(self, n):\n",
    "        \"\"\"\n",
    "        :type n: int\n",
    "        :rtype: bool\n",
    "        \"\"\"\n",
    "        if n < 1:\n",
    "            return False\n",
    "        \n",
    "        while(n%3==0):\n",
    "            n = n/3\n",
    "        \n",
    "        if(n==1):\n",
    "            return True\n",
    "        else:\n",
    "            return False\n",
    "    \n",
    "s = Solution()\n",
    "\n",
    "s.isPowerOfThree(9)"
   ]
  },
  {
   "cell_type": "code",
   "execution_count": 27,
   "metadata": {},
   "outputs": [
    {
     "data": {
      "text/plain": [
       "'bca'"
      ]
     },
     "execution_count": 27,
     "metadata": {},
     "output_type": "execute_result"
    }
   ],
   "source": [
    "import re\n",
    "\n",
    "\n",
    "def removeDuplicateChar(s):\n",
    "    \n",
    "    myDict = {}\n",
    "    for char in s:\n",
    "        if char not in myDict:\n",
    "            myDict[char] = char\n",
    "    \n",
    "    s = \"\"\n",
    "    for vals in myDict:\n",
    "        s = s + vals\n",
    "  \n",
    "    return s\n",
    "\n",
    "\n",
    "removeDuplicateChar(\"bcabc\")\n"
   ]
  },
  {
   "cell_type": "code",
   "execution_count": 8,
   "metadata": {},
   "outputs": [
    {
     "data": {
      "text/plain": [
       "'hilluoe'"
      ]
     },
     "execution_count": 8,
     "metadata": {},
     "output_type": "execute_result"
    }
   ],
   "source": [
    "#Write a function that takes a string as input and reverse only the vowels of a string\n",
    "#aeiou\n",
    "#hello   if hello =>\n",
    "\n",
    "def reverse_vowels(s):\n",
    "    s = list(s)    # <======\n",
    "    i = 0\n",
    "    j = len(s) -1\n",
    "    \n",
    "    while i < j:\n",
    "        if not is_vowel(s[i]):\n",
    "            i = i + 1\n",
    "            continue\n",
    "        \n",
    "        if not is_vowel(s[j]):\n",
    "            j = j - 1\n",
    "            continue\n",
    "            \n",
    "        temp = s[i]\n",
    "        s[i]= s[j]\n",
    "        s[j] = temp\n",
    "        \n",
    "        i = i + 1\n",
    "        j = j - 1\n",
    "        \n",
    "    return ''.join(s)\n",
    "    \n",
    "    \n",
    "def is_vowel(char):\n",
    "    vow = ['a','e','i','o','u','A','E','I','O','U']\n",
    "    if char in vow:\n",
    "        return True\n",
    "    else:\n",
    "        return False\n",
    "    \n",
    "reverse_vowels('helloui')"
   ]
  },
  {
   "cell_type": "code",
   "execution_count": 19,
   "metadata": {
    "collapsed": true
   },
   "outputs": [],
   "source": [
    " def myPow(x, n):\n",
    "        if  n ==0:\n",
    "            return 1\n",
    "        if n < 0:\n",
    "            return 1 / myPow(x, -n)\n",
    "        if n % 2:\n",
    "            return x * myPow(x, n-1)\n",
    "        return myPow(x*x, n/2)\n"
   ]
  },
  {
   "cell_type": "code",
   "execution_count": 25,
   "metadata": {},
   "outputs": [
    {
     "data": {
      "text/plain": [
       "0.25"
      ]
     },
     "execution_count": 25,
     "metadata": {},
     "output_type": "execute_result"
    }
   ],
   "source": [
    "myPow(2,-2)"
   ]
  },
  {
   "cell_type": "code",
   "execution_count": 28,
   "metadata": {
    "collapsed": true
   },
   "outputs": [],
   "source": [
    "def longest_common_substring(str1, str2):\n",
    "    cols = len(str1) + 1     # Add 1 to represent 0 valued col for DP\n",
    "    rows = len(str2) + 1     # Add 1 to represent 0 valued row for DP\n",
    "\n",
    "    T = [[0 for _ in range(cols)] for _ in range(rows)]\n",
    "    \n",
    "    print (T)\n",
    "    max_length = 0\n",
    "\n",
    "    for i in range(1, rows):\n",
    "        for j in range(1, cols):\n",
    "            if str2[i - 1] == str1[j - 1]:\n",
    "                T[i][j] = T[i - 1][j - 1] + 1\n",
    "                max_length = max(max_length, T[i][j])\n",
    "\n",
    "    return max_length\n",
    "\n",
    "def longest_common_string_recursive_helper(str1, str2, pos1, pos2, check_equal):\n",
    "    if pos1 == -1 or pos2 == -1:\n",
    "        return 0\n",
    "\n",
    "    if check_equal:\n",
    "        if str1[pos1] == str2[pos2]:\n",
    "            return 1 + longest_common_string_recursive_helper(str1, str2, pos1 - 1, pos2 - 1, True)\n",
    "        else:\n",
    "            return 0\n",
    "\n",
    "    longest = 0     # start (again) to find the longest from the current positions\n",
    "    if str1[pos1] == str2[pos2]:\n",
    "        longest = 1 + longest_common_string_recursive_helper(str1, str2, pos1 - 1, pos2 - 1, True)\n",
    "\n",
    "    return max(longest,\n",
    "               longest_common_string_recursive_helper(str1, str2, pos1, pos2 - 1, False),\n",
    "               longest_common_string_recursive_helper(str1, str2, pos1 - 1, pos2, False))\n",
    "\n",
    "\n",
    "def longest_common_substring_recursive(str1, str2):\n",
    "    return longest_common_string_recursive_helper(str1, str2, len(str1) - 1, len(str2) - 1, False)\n"
   ]
  },
  {
   "cell_type": "code",
   "execution_count": 29,
   "metadata": {},
   "outputs": [
    {
     "name": "stdout",
     "output_type": "stream",
     "text": [
      "[[0, 0, 0, 0, 0, 0], [0, 0, 0, 0, 0, 0], [0, 0, 0, 0, 0, 0], [0, 0, 0, 0, 0, 0], [0, 0, 0, 0, 0, 0], [0, 0, 0, 0, 0, 0]]\n"
     ]
    },
    {
     "data": {
      "text/plain": [
       "3"
      ]
     },
     "execution_count": 29,
     "metadata": {},
     "output_type": "execute_result"
    }
   ],
   "source": [
    "longest_common_substring(\"abscd\",\"abseq\")"
   ]
  },
  {
   "cell_type": "code",
   "execution_count": 77,
   "metadata": {},
   "outputs": [
    {
     "name": "stdout",
     "output_type": "stream",
     "text": [
      "3\n",
      "3\n",
      "4\n",
      "3\n",
      "2\n",
      "2\n",
      "1\n",
      "1\n"
     ]
    }
   ],
   "source": [
    "\"\"\"\n",
    "Given a string, we can \"shift\" each of its letter to its successive letter, for example: \"abc\" -> \"bcd\". We can keep \"shifting\" which forms the sequence:\n",
    "\n",
    "\"abc\" -> \"bcd\" -> ... -> \"xyz\"\n",
    "Given a list of strings which contains only lowercase alphabets, group all strings that belong to the same shifting sequence.\n",
    "\n",
    "For example, given: [\"abc\", \"bcd\", \"acef\", \"xyz\", \"az\", \"ba\", \"a\", \"z\"], \n",
    "A solution is:\n",
    "\n",
    "[\n",
    "  [\"abc\",\"bcd\",\"xyz\"],\n",
    "  [\"az\",\"ba\"],\n",
    "  [\"acef\"],\n",
    "  [\"a\",\"z\"]\n",
    "]\n",
    "\"\"\"\n",
    "\n",
    "def groupStrings(strings):\n",
    "    mDict = {}\n",
    "    \n",
    "    for word in strings:\n",
    "        if word not in mDict:\n",
    "            mDict[word] = len(word)\n",
    "    \n",
    "    s = set()\n",
    "    #Elements with same length if they are subsquent sequ add them\n",
    "    for val in mDict.values():\n",
    "        s.add(val)\n",
    "        \n",
    "    \n",
    "    for x in mDict.keys():\n",
    "        if \n",
    "            \n",
    "\n",
    "\n",
    "strings = [\"abc\", \"bcd\", \"acef\", \"xyz\", \"az\", \"ba\", \"a\", \"z\"]\n",
    "groupStrings(strings)\n",
    "    "
   ]
  },
  {
   "cell_type": "code",
   "execution_count": 54,
   "metadata": {
    "collapsed": true
   },
   "outputs": [],
   "source": [
    "#Determine whether an integer is a palindrome. Do this without extra space.\n",
    "\n",
    "# I don't think Number palindroms can be -ve\n",
    "# We can also do num to list and then reverse/sort it... won't be effient but another way to do it\n",
    "\n",
    "class PalindromeInteger(object):\n",
    "    def check_number_palindrome(self, num):\n",
    "        print( str(num)[::-1])\n",
    "        if str(num) == str(num)[::-1]:\n",
    "            return True\n",
    "        else:\n",
    "            return False\n",
    "\n",
    "class PalindromInteger2(object):\n",
    "    \n",
    "    def reverse(self,num):\n",
    "        \n",
    "        reverse_num = 0\n",
    "        while num >0:\n",
    "            reverse_num = (reverse_num*10) + num%10\n",
    "            num = num//10\n",
    "        return reverse_num\n",
    "    \n",
    "    def check_number_palindrome2(self,num):\n",
    "        if num == self.reverse(num):\n",
    "            print(num,self.reverse(num))\n",
    "            return True\n",
    "        else:\n",
    "            print(num,self.reverse(num))\n",
    "            return False\n",
    "            "
   ]
  },
  {
   "cell_type": "code",
   "execution_count": 56,
   "metadata": {},
   "outputs": [
    {
     "name": "stdout",
     "output_type": "stream",
     "text": [
      "-13\n",
      "-13\n",
      "-13 0\n"
     ]
    },
    {
     "data": {
      "text/plain": [
       "False"
      ]
     },
     "execution_count": 56,
     "metadata": {},
     "output_type": "execute_result"
    }
   ],
   "source": [
    "palindromecheck = PalindromInteger2()\n",
    "num = 123123\n",
    "num1 = -12-1\n",
    "\n",
    "palindromecheck.check_number_palindrome2(num1)\n"
   ]
  },
  {
   "cell_type": "code",
   "execution_count": 59,
   "metadata": {},
   "outputs": [
    {
     "name": "stdout",
     "output_type": "stream",
     "text": [
      "Hello World J\n"
     ]
    }
   ],
   "source": [
    "\n",
    "s = \"Hello\"\n",
    "r = \" World\"\n",
    "\n",
    "k = s + r\n",
    "k = k + \" J\"\n",
    "print(k)\n"
   ]
  },
  {
   "cell_type": "code",
   "execution_count": 16,
   "metadata": {},
   "outputs": [
    {
     "data": {
      "text/plain": [
       "False"
      ]
     },
     "execution_count": 16,
     "metadata": {},
     "output_type": "execute_result"
    }
   ],
   "source": [
    "\"\"\"\n",
    "Given 2 words, return true if second word has a substring that is also an anagram of word 1.\n",
    "LGE , GOOGLE- True\n",
    "GEO, GOOGLE - False\n",
    "\"\"\"\n",
    "\n",
    "\n",
    "def anagram_check(str1, str2):\n",
    "    \n",
    "    #if str2 is in str1 it is anagram return true 'GLE' =>Google\n",
    "    if str2 in str1:\n",
    "        return True\n",
    "    \n",
    "    # get all the permutations and check it in given string\n",
    "    p_codes = permute(str2)\n",
    "    \n",
    "    for i  in range(len(p_codes)):\n",
    "        if ''.join(p_codes[i]) in str1:\n",
    "            return True\n",
    "    return False\n",
    "    \n",
    "    \n",
    "#find the combinations of subsstring check them in str1 (GLE => GLE, GEL, LEG, LGE, EGL, ELG)\n",
    "# thanks to https://leetcode.com/problems/permutations/discuss/\n",
    "\n",
    "def permute(nums):\n",
    "    return nums and [p[:i] + [nums[0]] + p[i:]\n",
    "                     for p in permute(nums[1:])\n",
    "                     for i in range(len(nums))] or [[]]\n",
    "    \n",
    "    \n",
    "    \n",
    "    \n",
    "    \n",
    "anagram_check(\"Google\",\"geo\")\n",
    "    "
   ]
  },
  {
   "cell_type": "code",
   "execution_count": 26,
   "metadata": {},
   "outputs": [
    {
     "data": {
      "text/plain": [
       "['bab', 'abb', 'abb', 'bba', 'bba', 'bab']"
      ]
     },
     "execution_count": 26,
     "metadata": {},
     "output_type": "execute_result"
    }
   ],
   "source": [
    "#https://www.youtube.com/watch?v=Jf0WYAbPDKI\n",
    "\n",
    "def permutation(word):  #abc\n",
    "    if len(word)==1:\n",
    "        return [word]\n",
    "    \n",
    "   #get all the permutations of N-1 \n",
    "    perms = permutation(word[1:])  #bc AND cb \n",
    "    char = word[0] #first char  a\n",
    "    result = []  \n",
    "    \n",
    "    for perm in perms:\n",
    "        for i in range(len(perm)+1):\n",
    "            result.append(perm[:i]+char+perm[i:])\n",
    "    return result\n",
    "    \n",
    "permutation(\"bab\")\n",
    "\n",
    "\n"
   ]
  },
  {
   "cell_type": "code",
   "execution_count": 75,
   "metadata": {},
   "outputs": [
    {
     "data": {
      "text/plain": [
       "['abc', 'acb', 'bac', 'bca', 'cab', 'cba']"
      ]
     },
     "execution_count": 75,
     "metadata": {},
     "output_type": "execute_result"
    }
   ],
   "source": [
    "import itertools\n",
    "\n",
    "list(map(\"\".join, itertools.permutations('abc')))"
   ]
  },
  {
   "cell_type": "code",
   "execution_count": 52,
   "metadata": {
    "collapsed": true
   },
   "outputs": [],
   "source": [
    "#REVERSE NUMBER including -ves\n",
    "import sys\n",
    "\n",
    "class Solution(object):\n",
    "    def reverse(self, x):\n",
    "        \"\"\"\n",
    "        :type x: int\n",
    "        :rtype: int\n",
    "        \"\"\"      \n",
    "        rev = 0   \n",
    "        m = -1 if x < 0 else 1\n",
    "        x = m*x  # takes care of -ve\n",
    "        \n",
    "        while x!=0: \n",
    "            rev =  rev*10 + x%10\n",
    "           # print(rev)\n",
    "            x = x//10\n",
    "            if rev > 0x7FFFFFFF:   #takes care of overflow\n",
    "                return 0\n",
    "            \n",
    "        return rev*m\n",
    "    \n",
    "\n",
    "    "
   ]
  },
  {
   "cell_type": "code",
   "execution_count": 53,
   "metadata": {},
   "outputs": [
    {
     "data": {
      "text/plain": [
       "-321"
      ]
     },
     "execution_count": 53,
     "metadata": {},
     "output_type": "execute_result"
    }
   ],
   "source": [
    "temp = Solution()\n",
    "\n",
    "x = -123\n",
    "temp.reverse(x)"
   ]
  },
  {
   "cell_type": "code",
   "execution_count": 100,
   "metadata": {},
   "outputs": [
    {
     "name": "stdout",
     "output_type": "stream",
     "text": [
      "ab3cdc2\n"
     ]
    }
   ],
   "source": [
    "#Compress string \"aabcaaaaade\" to \"aabc5ade\". Google\n",
    "#Only compress if it shortens the string. 5xa means char a is repeated 5 times.\n",
    "#occurance to compress should have count of >2 else there is no need\n",
    "\n",
    "def string_compression(input_string):\n",
    "    counts = 1\n",
    "    compressed_string_array = []\n",
    "\n",
    "    for i in range(1, len(input_string)):\n",
    "        #print(\"ITERATION\",input_string[i])\n",
    "        if input_string[i] == input_string[i - 1]:\n",
    "            counts += 1\n",
    "        else:\n",
    "            if counts > 1:\n",
    "                compressed_string_array.append(input_string[i - 1] + str(counts))\n",
    "            else:\n",
    "                compressed_string_array.append(input_string[i - 1])\n",
    "            counts = 1\n",
    "            \n",
    "    compressed_string_array.append(input_string[i] + str(counts))\n",
    "    \n",
    "    new_str = \"\".join(compressed_string_array)\n",
    "    \n",
    "    return new_str\n",
    "\n",
    "\n",
    "s1 = string_compression(\"abbbcdcc\")\n",
    "\n",
    "print(s1)\n"
   ]
  },
  {
   "cell_type": "code",
   "execution_count": null,
   "metadata": {
    "collapsed": true
   },
   "outputs": [],
   "source": []
  },
  {
   "cell_type": "code",
   "execution_count": null,
   "metadata": {
    "collapsed": true
   },
   "outputs": [],
   "source": []
  }
 ],
 "metadata": {
  "kernelspec": {
   "display_name": "Python 3",
   "language": "python",
   "name": "python3"
  },
  "language_info": {
   "codemirror_mode": {
    "name": "ipython",
    "version": 3
   },
   "file_extension": ".py",
   "mimetype": "text/x-python",
   "name": "python",
   "nbconvert_exporter": "python",
   "pygments_lexer": "ipython3",
   "version": "3.6.1"
  }
 },
 "nbformat": 4,
 "nbformat_minor": 2
}

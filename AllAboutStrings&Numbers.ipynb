{
 "cells": [
  {
   "cell_type": "code",
   "execution_count": 1,
   "metadata": {
    "collapsed": true
   },
   "outputs": [],
   "source": [
    "# USA, Google, Apple true\n",
    "# FrenCh, funny false\n",
    "# Ascii 65-90 A-Z and 97-122 A-Z small\n",
    "# WHAT is O(N)??\n",
    "def DetectCaptial(stringInput):\n",
    "    \n",
    "    myString = stringInput\n",
    "    \n",
    "    if myString[0].isupper():\n",
    "       \n",
    "        if myString[1:].islower():  # First is CAP and rest small good\n",
    "            return True\n",
    "        elif myString[1:].isupper(): #All CAPS Good\n",
    "            return True\n",
    "        else:\n",
    "            return False\n",
    "       # Use Regex TODO\n",
    "    \n",
    "    "
   ]
  },
  {
   "cell_type": "code",
   "execution_count": 4,
   "metadata": {},
   "outputs": [
    {
     "data": {
      "text/plain": [
       "False"
      ]
     },
     "execution_count": 4,
     "metadata": {},
     "output_type": "execute_result"
    }
   ],
   "source": [
    "DetectCaptial(\"KriDshma\")"
   ]
  },
  {
   "cell_type": "code",
   "execution_count": 6,
   "metadata": {},
   "outputs": [
    {
     "data": {
      "text/plain": [
       "'\\'\\n[\\n  [\"ate\", \"eat\",\"tea\"],\\n  [\"nat\",\"tan\"],\\n  [\"bat\"]\\n]\\n'"
      ]
     },
     "execution_count": 6,
     "metadata": {},
     "output_type": "execute_result"
    }
   ],
   "source": [
    "#Given an array of strings, group anagrams together.\n",
    "#For example, given: [\"eat\", \"tea\", \"tan\", \"ate\", \"nat\", \"bat\"], \n",
    "\n",
    "#[\n",
    "#  [\"ate\", \"eat\",\"tea\"],\n",
    "#  [\"nat\",\"tan\"],\n",
    "#  [\"bat\"]\n",
    "#]\n",
    "\n",
    "# Algo \n",
    "# use Dictionary\n",
    "# ate => aet\n",
    "# eat => aet\n",
    "# tea => aet\n",
    "# tan => ant\n",
    "# nat => ant\n",
    "# bat => abt\n",
    "\n",
    "# check for  Loop through Unique (sorted vals) \n",
    "# list all the keys"
   ]
  },
  {
   "cell_type": "code",
   "execution_count": 16,
   "metadata": {},
   "outputs": [
    {
     "name": "stdout",
     "output_type": "stream",
     "text": [
      "['101', '111']\n"
     ]
    }
   ],
   "source": [
    "#Given a string containing of ‘0’, ‘1’ and ‘?’ wildcard characters,\n",
    "#generate all binary strings that can be formed by replacing each wildcard character \n",
    "# by ‘0’ or ‘1’. \n",
    "#http://onecodingproblem.com/2015/09/20/string-permutations-binary-with-question-marks/\n",
    "def compute_perms(in_string):\n",
    "    index = in_string.find('?')\n",
    "    if index < 0:\n",
    "        return [in_string]\n",
    "    branch1 = [(in_string[:index] + '0' + '{0}').format(i) for i in compute_perms(in_string[index+1:])]\n",
    "    branch2 = [(in_string[:index] + '1' + '{0}').format(i) for i in compute_perms(in_string[index+1:])]\n",
    "    return branch1 + branch2\n",
    "print (compute_perms(\"1?1\"))"
   ]
  },
  {
   "cell_type": "code",
   "execution_count": 19,
   "metadata": {},
   "outputs": [
    {
     "name": "stdout",
     "output_type": "stream",
     "text": [
      "STACK\n",
      "a\n"
     ]
    }
   ],
   "source": [
    "l = [83, 84, 65, 67, 75]\n",
    "s = \"\".join([chr(c) for c in l])\n",
    "print (s)\n",
    "#chr function\n",
    "print (chr(97))"
   ]
  },
  {
   "cell_type": "code",
   "execution_count": 34,
   "metadata": {},
   "outputs": [
    {
     "name": "stdout",
     "output_type": "stream",
     "text": [
      "9\n"
     ]
    }
   ],
   "source": [
    "#Given an integer, find the largest of the sum of two digits. \n",
    "#10923  O: 12\n",
    "#Google\n",
    "def SumDigits(digit):\n",
    "    # split it into array and find 2 elements O(N2)\n",
    "    # sort the digit sum first 2 elements\n",
    "    pass\n",
    "\n",
    "a = 12453\n",
    "sorted_digits = \"\".join(sorted(str(a),reverse=1))\n",
    "#print (sorted_digits)\n",
    "max_sum =  int (sorted_digits[0]) + int (sorted_digits[1])\n",
    "print (max_sum)\n",
    "\n",
    "\n"
   ]
  },
  {
   "cell_type": "code",
   "execution_count": null,
   "metadata": {
    "collapsed": true
   },
   "outputs": [],
   "source": []
  },
  {
   "cell_type": "code",
   "execution_count": 40,
   "metadata": {},
   "outputs": [
    {
     "name": "stdout",
     "output_type": "stream",
     "text": [
      "True\n"
     ]
    }
   ],
   "source": [
    "#Given a string containing just the characters '(', ')', '{', '}', '[' and ']',\n",
    "#Determine if the input string is valid.\n",
    "def isValid(s):\n",
    "        stack = []\n",
    "        # dictionary with all the  types of brackets ..Key as closing brace\n",
    "        dict = {\"]\":\"[\", \"}\":\"{\", \")\":\"(\"}\n",
    "        for char in s:\n",
    "            if char in dict.values():\n",
    "                stack.append(char)\n",
    "            elif char in dict.keys():\n",
    "                if stack == [] or dict[char] != stack.pop():\n",
    "                    return False\n",
    "            else:\n",
    "                return False\n",
    "        return stack == []\n",
    "    \n",
    "s = \"{{[()]}}\"\n",
    "print (isValid(s))"
   ]
  },
  {
   "cell_type": "code",
   "execution_count": 42,
   "metadata": {
    "collapsed": true
   },
   "outputs": [],
   "source": [
    "#add digits of number\n",
    "#1. \n",
    "def first_way(n):\n",
    "    stringified_num = str(n)\n",
    "    ans = 0\n",
    "    for digit in stringified_num:\n",
    "        ans += int(digit)\n",
    "    return ans\n",
    "\n",
    "def second_way_iterative(n):\n",
    "    ans = 0\n",
    "    while n > 0:\n",
    "        ans += n % 10\n",
    "        n = n/10\n",
    "    return ans\n",
    "\n",
    "def recursive_way(n):\n",
    "    if n == 0:\n",
    "        return 0\n",
    "    return (n % 10) + second_way(n/10)"
   ]
  },
  {
   "cell_type": "code",
   "execution_count": 43,
   "metadata": {},
   "outputs": [
    {
     "name": "stdout",
     "output_type": "stream",
     "text": [
      "15\n"
     ]
    }
   ],
   "source": [
    "print (first_way(12345))"
   ]
  },
  {
   "cell_type": "code",
   "execution_count": 20,
   "metadata": {},
   "outputs": [
    {
     "data": {
      "text/plain": [
       "True"
      ]
     },
     "execution_count": 20,
     "metadata": {},
     "output_type": "execute_result"
    }
   ],
   "source": [
    "\n",
    "#Google\n",
    "#Palindrome\n",
    "#Write a function to return a palindromic permutation of a string. \n",
    "\n",
    "def checkPalindrome(stringInput):  # O(N/2)\n",
    "    if len(stringInput) <= 1:\n",
    "        return Fales\n",
    "    pivot = len(stringInput)//2   #returns whole number\n",
    "    pre = stringInput[:pivot];    # returns string begining : \n",
    "    post  = stringInput[pivot+1:]; \n",
    "    \n",
    "    if  pre.lower() == post[::-1].lower() :  # Convert to lower case/upper\n",
    "        return True\n",
    "    else:\n",
    "        return False\n",
    "\n",
    "def \n",
    "    \n",
    "checkPalindrome(\"Kayak\")"
   ]
  },
  {
   "cell_type": "code",
   "execution_count": null,
   "metadata": {
    "collapsed": true
   },
   "outputs": [],
   "source": []
  },
  {
   "cell_type": "code",
   "execution_count": 11,
   "metadata": {
    "collapsed": true
   },
   "outputs": [],
   "source": [
    "#given a number, write a function to determine if the number is a power of 7  "
   ]
  },
  {
   "cell_type": "code",
   "execution_count": null,
   "metadata": {
    "collapsed": true
   },
   "outputs": [],
   "source": [
    "#Google\n",
    "#possible string permutations"
   ]
  },
  {
   "cell_type": "code",
   "execution_count": null,
   "metadata": {
    "collapsed": true
   },
   "outputs": [],
   "source": [
    "#Google\n",
    "#Fibonicci\n"
   ]
  },
  {
   "cell_type": "code",
   "execution_count": null,
   "metadata": {
    "collapsed": true
   },
   "outputs": [],
   "source": [
    "#Google\n",
    "#Factorial"
   ]
  },
  {
   "cell_type": "code",
   "execution_count": null,
   "metadata": {
    "collapsed": true
   },
   "outputs": [],
   "source": [
    "#Google\n",
    "#http://practice.geeksforgeeks.org/problems/find-median-in-a-stream/0\n",
    "#Median"
   ]
  },
  {
   "cell_type": "code",
   "execution_count": null,
   "metadata": {
    "collapsed": true
   },
   "outputs": [],
   "source": []
  },
  {
   "cell_type": "code",
   "execution_count": null,
   "metadata": {
    "collapsed": true
   },
   "outputs": [],
   "source": [
    " #Given a sentence remove all tokens from it if the reverse of that token occurs previously in it .\n",
    "# ex The cat and rat tac tar = the cat and rat "
   ]
  },
  {
   "cell_type": "code",
   "execution_count": null,
   "metadata": {
    "collapsed": true
   },
   "outputs": [],
   "source": [
    "#Google\n",
    "#Write some codes to convert a string to its ascii codes"
   ]
  }
 ],
 "metadata": {
  "kernelspec": {
   "display_name": "Python 3",
   "language": "python",
   "name": "python3"
  },
  "language_info": {
   "codemirror_mode": {
    "name": "ipython",
    "version": 3
   },
   "file_extension": ".py",
   "mimetype": "text/x-python",
   "name": "python",
   "nbconvert_exporter": "python",
   "pygments_lexer": "ipython3",
   "version": "3.6.1"
  }
 },
 "nbformat": 4,
 "nbformat_minor": 2
}

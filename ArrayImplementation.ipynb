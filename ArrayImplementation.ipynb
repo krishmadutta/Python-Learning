{
 "cells": [
  {
   "cell_type": "code",
   "execution_count": 13,
   "metadata": {
    "collapsed": true
   },
   "outputs": [],
   "source": [
    "# Given an array of integers, \n",
    "# every element appears twice except for one. Find that single one.\n",
    "#[a,a,b,b,c,c,d,d,e] output e\n",
    "# Use hashtable seen logic if seen count++ else count = 1\n",
    "# if sorted a <=> b next\n",
    "# a =[1,2,2]  2*a = [1,2,2] -[1,2,2](set) = 1\n",
    "def SingleNumber1(nums):\n",
    "    dic = {}\n",
    "    for num in nums:\n",
    "        dic[num] = dic.get(num, 0)+1\n",
    "    for key, val in dic.items():\n",
    "        if val == 1:\n",
    "            return key\n",
    "        \n",
    "def SingleNumber2(nums):\n",
    "    return 2*sum(set(nums))-sum(nums)    "
   ]
  },
  {
   "cell_type": "code",
   "execution_count": 17,
   "metadata": {},
   "outputs": [
    {
     "data": {
      "text/plain": [
       "4"
      ]
     },
     "execution_count": 17,
     "metadata": {},
     "output_type": "execute_result"
    }
   ],
   "source": [
    "\n",
    "a = [1,2,2,1,4]\n",
    "SingleNumber2(a)"
   ]
  },
  {
   "cell_type": "code",
   "execution_count": 32,
   "metadata": {},
   "outputs": [
    {
     "name": "stdout",
     "output_type": "stream",
     "text": [
      "{6, 7, 9}\n",
      "{1, 2, 3, 4, 5}\n"
     ]
    }
   ],
   "source": [
    "# Find implements that are not same within 2 array XOR is way to go\n",
    "#Duplicate within Array\n",
    "# Remove duplicates in a list. Google\n",
    "a = [1,2,3,4,5,6,7]\n",
    "b = [1,2,3,4,5,5,9]\n",
    "\n",
    "print (set(a)^set(b))  #bitwise OR\n",
    "print (set(a)&set(b))  #bitwise and \n",
    "\n",
    "c = [1,2,3,4,4,5,2,5]\n",
    "# Iteratively with 2 for loops by making copy of c O(N2)\n",
    "# add elements to dictionary and maintain count O(N)\n",
    "d = c\n",
    "\n"
   ]
  },
  {
   "cell_type": "code",
   "execution_count": 31,
   "metadata": {},
   "outputs": [
    {
     "data": {
      "text/plain": [
       "3.0"
      ]
     },
     "execution_count": 31,
     "metadata": {},
     "output_type": "execute_result"
    }
   ],
   "source": [
    "#missing number from series 1,2,3,4,...6 = 5   n * (n+1)/2 \n",
    "def missingNumber(nums):\n",
    "    return nums[-1] * (nums[-1]+1) / 2 - sum(nums)\n",
    "nums = [1,2,4]\n",
    "missingNumber(nums)"
   ]
  },
  {
   "cell_type": "code",
   "execution_count": null,
   "metadata": {
    "collapsed": true
   },
   "outputs": [],
   "source": [
    "#Given an unsorted array of integers, find the length of longest continuous increasing subsequence.\n",
    "#Input: [1,3,5,4,7]\n",
    "#Output: 3"
   ]
  },
  {
   "cell_type": "code",
   "execution_count": null,
   "metadata": {
    "collapsed": true
   },
   "outputs": [],
   "source": [
    "#Google\n",
    "#How do you generate all sets from an array and what is the time complexity.  "
   ]
  },
  {
   "cell_type": "code",
   "execution_count": null,
   "metadata": {
    "collapsed": true
   },
   "outputs": [],
   "source": [
    "#Google\n",
    "#Fastest way to find n max items in an unsorted array "
   ]
  },
  {
   "cell_type": "code",
   "execution_count": null,
   "metadata": {
    "collapsed": true
   },
   "outputs": [],
   "source": [
    "#Google\n",
    "#Print Matrix spiral order(top-down - bottom-up pattern)"
   ]
  },
  {
   "cell_type": "code",
   "execution_count": null,
   "metadata": {
    "collapsed": true
   },
   "outputs": [],
   "source": [
    "#Google\n",
    "#Rearrange a array by given index (Smaller ones go left and bigger ones go right); find the longest consecutive increment sequence"
   ]
  },
  {
   "cell_type": "code",
   "execution_count": null,
   "metadata": {
    "collapsed": true
   },
   "outputs": [],
   "source": [
    "#Google\n",
    "#Find the peak in given array"
   ]
  },
  {
   "cell_type": "code",
   "execution_count": null,
   "metadata": {
    "collapsed": true
   },
   "outputs": [],
   "source": [
    "#Google\n",
    "#Rotate a matrix "
   ]
  },
  {
   "cell_type": "code",
   "execution_count": null,
   "metadata": {
    "collapsed": true
   },
   "outputs": [],
   "source": [
    "#Google\n",
    "#Given an array of integers, return an array consisting of the product of N-1 elements"
   ]
  }
 ],
 "metadata": {
  "kernelspec": {
   "display_name": "Python 3",
   "language": "python",
   "name": "python3"
  },
  "language_info": {
   "codemirror_mode": {
    "name": "ipython",
    "version": 3
   },
   "file_extension": ".py",
   "mimetype": "text/x-python",
   "name": "python",
   "nbconvert_exporter": "python",
   "pygments_lexer": "ipython3",
   "version": "3.6.1"
  }
 },
 "nbformat": 4,
 "nbformat_minor": 2
}

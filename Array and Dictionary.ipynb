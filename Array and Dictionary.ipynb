{
 "cells": [
  {
   "cell_type": "code",
   "execution_count": 13,
   "metadata": {
    "collapsed": true
   },
   "outputs": [],
   "source": [
    "# Given an array of integers, \n",
    "# every element appears twice except for one. Find that single one.\n",
    "#[a,a,b,b,c,c,d,d,e] output e\n",
    "# Use hashtable seen logic if seen count++ else count = 1\n",
    "# if sorted a <=> b next\n",
    "# a =[1,2,2]  2*a = [1,2,2] -[1,2,2](set) = 1\n",
    "def SingleNumber1(nums):\n",
    "    dic = {}\n",
    "    for num in nums:\n",
    "        dic[num] = dic.get(num, 0)+1\n",
    "    for key, val in dic.items():\n",
    "        if val == 1:\n",
    "            return key\n",
    "        \n",
    "def SingleNumber2(nums):\n",
    "    return 2*sum(set(nums))-sum(nums)    "
   ]
  },
  {
   "cell_type": "code",
   "execution_count": null,
   "metadata": {
    "collapsed": true
   },
   "outputs": [],
   "source": []
  },
  {
   "cell_type": "code",
   "execution_count": 17,
   "metadata": {},
   "outputs": [
    {
     "data": {
      "text/plain": [
       "4"
      ]
     },
     "execution_count": 17,
     "metadata": {},
     "output_type": "execute_result"
    }
   ],
   "source": [
    "\n",
    "a = [1,2,2,1,4]\n",
    "SingleNumber2(a)"
   ]
  },
  {
   "cell_type": "code",
   "execution_count": 32,
   "metadata": {},
   "outputs": [
    {
     "name": "stdout",
     "output_type": "stream",
     "text": [
      "{6, 7, 9}\n",
      "{1, 2, 3, 4, 5}\n"
     ]
    }
   ],
   "source": [
    "# Find implements that are not same within 2 array XOR is way to go\n",
    "#Duplicate within Array\n",
    "# Remove duplicates in a list. Google\n",
    "a = [1,2,3,4,5,6,7]\n",
    "b = [1,2,3,4,5,5,9]\n",
    "\n",
    "print (set(a)^set(b))  #bitwise OR\n",
    "print (set(a)&set(b))  #bitwise and \n",
    "\n",
    "c = [1,2,3,4,4,5,2,5]\n",
    "# Iteratively with 2 for loops by making copy of c O(N2)\n",
    "# add elements to dictionary and maintain count O(N)\n",
    "#use a hash table and iterate over hash and add unique items to newlist\n",
    "\n",
    "\n",
    "\n"
   ]
  },
  {
   "cell_type": "code",
   "execution_count": 1,
   "metadata": {},
   "outputs": [
    {
     "data": {
      "text/plain": [
       "3.0"
      ]
     },
     "execution_count": 1,
     "metadata": {},
     "output_type": "execute_result"
    }
   ],
   "source": [
    "#missing number from series 1,2,3,4,...6 = 5   n * (n+1)/2 \n",
    "def missingNumber(nums):\n",
    "    return nums[-1] * (nums[-1]+1) / 2 - sum(nums)\n",
    "nums = [1,2,4]\n",
    "missingNumber(nums)"
   ]
  },
  {
   "cell_type": "code",
   "execution_count": 29,
   "metadata": {},
   "outputs": [
    {
     "data": {
      "text/plain": [
       "3"
      ]
     },
     "execution_count": 29,
     "metadata": {},
     "output_type": "execute_result"
    }
   ],
   "source": [
    "#Given an unsorted array of integers, find the length of longest continuous increasing subsequence.\n",
    "#Input: [1,3,5,4,7]\n",
    "#Output: 3\n",
    "# Looks like Sliding Window Problem\n",
    "\n",
    "def longest_subsequence(arr):\n",
    "    if len(arr) ==1:\n",
    "        return 1\n",
    "    \n",
    "    cnt = 0\n",
    "    res =0\n",
    "    \n",
    "    for i  in range(0, len(arr)):\n",
    "        \n",
    "        if(i == 0 or arr[i-1] < arr[i]):\n",
    "            cnt =  cnt + 1\n",
    "            res = max(res, cnt)\n",
    "        else:\n",
    "            cnt = 1\n",
    "               \n",
    "            \n",
    "    return res\n",
    "\n",
    "arr = [1,3,-5,-7,4,7]\n",
    "longest_subsequence(arr)"
   ]
  },
  {
   "cell_type": "code",
   "execution_count": null,
   "metadata": {
    "collapsed": true
   },
   "outputs": [],
   "source": [
    "#Rearrange a array by given index (Smaller ones go left and bigger ones go right); \n",
    "#get the len of array\n",
    "# find mid of array\n",
    "# Sorting Algo like Quicksort or Mergesort"
   ]
  },
  {
   "cell_type": "code",
   "execution_count": null,
   "metadata": {
    "collapsed": true
   },
   "outputs": [],
   "source": [
    "#Google\n",
    "#How do you generate all sets from an array and what is the time complexity.  "
   ]
  },
  {
   "cell_type": "code",
   "execution_count": null,
   "metadata": {
    "collapsed": true
   },
   "outputs": [],
   "source": [
    "#Google\n",
    "#Fastest way to find n max items in an unsorted array \n"
   ]
  },
  {
   "cell_type": "code",
   "execution_count": null,
   "metadata": {
    "collapsed": true
   },
   "outputs": [],
   "source": [
    "#Google\n",
    "#Print Matrix spiral order(top-down - bottom-up pattern)"
   ]
  },
  {
   "cell_type": "code",
   "execution_count": null,
   "metadata": {
    "collapsed": true
   },
   "outputs": [],
   "source": [
    "#Google\n",
    "#Rearrange a array by given index (Smaller ones go left and bigger ones go right); find the longest consecutive increment sequence"
   ]
  },
  {
   "cell_type": "code",
   "execution_count": null,
   "metadata": {
    "collapsed": true
   },
   "outputs": [],
   "source": [
    "#Google\n",
    "#Find the peak in given array"
   ]
  },
  {
   "cell_type": "code",
   "execution_count": 9,
   "metadata": {},
   "outputs": [
    {
     "name": "stdout",
     "output_type": "stream",
     "text": [
      "mat 4\n",
      "5\n",
      "[5, 1, 2, 3]\n",
      "[9, 6, 7, 4]\n",
      "[10, 11, 12, 8]\n"
     ]
    }
   ],
   "source": [
    "#Google\n",
    "#Rotate a matrix \n",
    "# Function to rotate a matrix\n",
    "def rotateMatrix(mat):\n",
    " \n",
    "    if not len(mat):\n",
    "        return\n",
    "     \n",
    "    \"\"\"\n",
    "        top : starting row index\n",
    "        bottom : ending row index\n",
    "        left : starting column index\n",
    "        right : ending column index\n",
    "    \"\"\"\n",
    " \n",
    "    top = 0\n",
    "    bottom = len(mat)-1\n",
    " \n",
    "    left = 0\n",
    "    print (\"mat\",len(mat[0]))\n",
    "    right = len(mat[0])-1\n",
    " \n",
    "    while left < right and top < bottom:\n",
    " \n",
    "        # Store the first element of next row,\n",
    "        # this element will replace first element of\n",
    "        # current row\n",
    "        prev = mat[top+1][left]\n",
    "        print(prev)\n",
    " \n",
    "        # Move elements of top row one step right\n",
    "        for i in range(left, right+1):\n",
    "            curr = mat[top][i]\n",
    "            mat[top][i] = prev\n",
    "            prev = curr\n",
    " \n",
    "        top += 1\n",
    " \n",
    "        # Move elements of rightmost column one step downwards\n",
    "        for i in range(top, bottom+1):\n",
    "            curr = mat[i][right]\n",
    "            mat[i][right] = prev\n",
    "            prev = curr\n",
    " \n",
    "        right -= 1\n",
    " \n",
    "        # Move elements of bottom row one step left\n",
    "        for i in range(right, left-1, -1):\n",
    "            curr = mat[bottom][i]\n",
    "            mat[bottom][i] = prev\n",
    "            prev = curr\n",
    " \n",
    "        bottom -= 1\n",
    " \n",
    "        # Move elements of leftmost column one step upwards\n",
    "        for i in range(bottom, top-1, -1):\n",
    "            curr = mat[i][left]\n",
    "            mat[i][left] = prev\n",
    "            prev = curr\n",
    " \n",
    "        left += 1\n",
    " \n",
    "    return mat\n",
    "\n",
    "# Utility Function\n",
    "def printMatrix(mat):\n",
    "    for row in mat:\n",
    "        print (row)\n",
    " \n",
    " \n",
    "# Test case 1\n",
    "matrix =[ \n",
    "            [1,  2,  3,  4 ],\n",
    "            [5,  6,  7,  8 ],\n",
    "            [9,  10, 11, 12 ]\n",
    "            \n",
    "        ]\n",
    "# Test case 2\n",
    "\"\"\"\n",
    "matrix =[\n",
    "            [1, 2, 3],\n",
    "            [4, 5, 6],\n",
    "            [7, 8, 9]\n",
    "        ]\n",
    "\"\"\"\n",
    " \n",
    "matrix = rotateMatrix(matrix)\n",
    "# Print modified matrix\n",
    "printMatrix(matrix)\n",
    "\n",
    "\n"
   ]
  },
  {
   "cell_type": "code",
   "execution_count": null,
   "metadata": {
    "collapsed": true
   },
   "outputs": [],
   "source": [
    "#Google\n",
    "#Given an array of integers, return an array consisting of the product of N-1 elements"
   ]
  },
  {
   "cell_type": "code",
   "execution_count": 21,
   "metadata": {},
   "outputs": [],
   "source": [
    "#Prefix Trie\n",
    "# Dict to solve\n",
    "# a..z dict and vals  - > link to next dict\n",
    "wordkey ='\\n'\n",
    "\n",
    "class PrefixTree:\n",
    "    def __init__(self):\n",
    "        self.root = {}\n",
    "    \n",
    "    def add(self,value):\n",
    "        dict =  self.root\n",
    "        \n",
    "        while len(value)>0:\n",
    "            c =  value[0]\n",
    "            if c not in dict:\n",
    "                dict[c] = {}\n",
    "            \n",
    "            dict =  dict[c]\n",
    "            value = value[1:]\n",
    "    \n",
    "        if wordkey in dict:\n",
    "            return False\n",
    "        \n",
    "        dict[wordkey] = True\n",
    "        return True\n",
    "    \n",
    "    \n",
    "    def find(self, value):\n",
    "        dict = self.root\n",
    "        while len(value)>0:\n",
    "            c = value[0]\n",
    "            if c not in dict:\n",
    "                return False\n",
    "            dict = dict[c]\n",
    "            value = value[1:]\n",
    "            \n",
    "        return wordkey in dict\n",
    "    \n",
    "    def startsWith(self, prefix):\n",
    "        current = self.root\n",
    "        for letter in prefix:\n",
    "            if letter not in current:\n",
    "                return False\n",
    "            current = current[letter]\n",
    "        return True\n",
    "\n",
    "    \n",
    "        "
   ]
  },
  {
   "cell_type": "code",
   "execution_count": 22,
   "metadata": {},
   "outputs": [
    {
     "data": {
      "text/plain": [
       "False"
      ]
     },
     "execution_count": 22,
     "metadata": {},
     "output_type": "execute_result"
    }
   ],
   "source": [
    "s = PrefixTree()\n",
    "s.add('in')\n",
    "s.add('inch')\n",
    "s.find('inc')"
   ]
  },
  {
   "cell_type": "code",
   "execution_count": 24,
   "metadata": {},
   "outputs": [
    {
     "data": {
      "text/plain": [
       "False"
      ]
     },
     "execution_count": 24,
     "metadata": {},
     "output_type": "execute_result"
    }
   ],
   "source": [
    "s.startsWith('an')"
   ]
  },
  {
   "cell_type": "code",
   "execution_count": null,
   "metadata": {
    "collapsed": true
   },
   "outputs": [],
   "source": []
  }
 ],
 "metadata": {
  "kernelspec": {
   "display_name": "Python 3",
   "language": "python",
   "name": "python3"
  },
  "language_info": {
   "codemirror_mode": {
    "name": "ipython",
    "version": 3
   },
   "file_extension": ".py",
   "mimetype": "text/x-python",
   "name": "python",
   "nbconvert_exporter": "python",
   "pygments_lexer": "ipython3",
   "version": "3.6.1"
  }
 },
 "nbformat": 4,
 "nbformat_minor": 2
}

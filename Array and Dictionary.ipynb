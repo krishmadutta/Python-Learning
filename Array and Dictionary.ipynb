{
 "cells": [
  {
   "cell_type": "code",
   "execution_count": 13,
   "metadata": {
    "collapsed": true
   },
   "outputs": [],
   "source": [
    "# Given an array of integers, \n",
    "# every element appears twice except for one. Find that single one.\n",
    "#[a,a,b,b,c,c,d,d,e] output e\n",
    "# Use hashtable seen logic if seen count++ else count = 1\n",
    "# if sorted a <=> b next\n",
    "# a =[1,2,2]  2*a = [1,2,2] -[1,2,2](set) = 1\n",
    "def SingleNumber1(nums):\n",
    "    dic = {}\n",
    "    for num in nums:\n",
    "        dic[num] = dic.get(num, 0)+1\n",
    "    for key, val in dic.items():\n",
    "        if val == 1:\n",
    "            return key\n",
    "        \n",
    "def SingleNumber2(nums):\n",
    "    return 2*sum(set(nums))-sum(nums)    "
   ]
  },
  {
   "cell_type": "code",
   "execution_count": null,
   "metadata": {
    "collapsed": true
   },
   "outputs": [],
   "source": []
  },
  {
   "cell_type": "code",
   "execution_count": 17,
   "metadata": {},
   "outputs": [
    {
     "data": {
      "text/plain": [
       "4"
      ]
     },
     "execution_count": 17,
     "metadata": {},
     "output_type": "execute_result"
    }
   ],
   "source": [
    "\n",
    "a = [1,2,2,1,4]\n",
    "SingleNumber2(a)"
   ]
  },
  {
   "cell_type": "code",
   "execution_count": 38,
   "metadata": {},
   "outputs": [
    {
     "name": "stdout",
     "output_type": "stream",
     "text": [
      "{6, 7, 9}\n",
      "{1, 2, 3, 4, 5}\n"
     ]
    },
    {
     "ename": "TypeError",
     "evalue": "unsupported operand type(s) for >>: 'list' and 'list'",
     "output_type": "error",
     "traceback": [
      "\u001b[0;31m---------------------------------------------------------------------------\u001b[0m",
      "\u001b[0;31mTypeError\u001b[0m                                 Traceback (most recent call last)",
      "\u001b[0;32m<ipython-input-38-53f1b020e3dd>\u001b[0m in \u001b[0;36m<module>\u001b[0;34m()\u001b[0m\n\u001b[1;32m     10\u001b[0m \u001b[0mc\u001b[0m \u001b[0;34m=\u001b[0m \u001b[0;34m[\u001b[0m\u001b[0;36m1\u001b[0m\u001b[0;34m,\u001b[0m\u001b[0;36m2\u001b[0m\u001b[0;34m,\u001b[0m\u001b[0;36m3\u001b[0m\u001b[0;34m,\u001b[0m\u001b[0;36m4\u001b[0m\u001b[0;34m,\u001b[0m\u001b[0;36m4\u001b[0m\u001b[0;34m,\u001b[0m\u001b[0;36m5\u001b[0m\u001b[0;34m,\u001b[0m\u001b[0;36m2\u001b[0m\u001b[0;34m,\u001b[0m\u001b[0;36m5\u001b[0m\u001b[0;34m]\u001b[0m\u001b[0;34m\u001b[0m\u001b[0m\n\u001b[1;32m     11\u001b[0m \u001b[0;34m\u001b[0m\u001b[0m\n\u001b[0;32m---> 12\u001b[0;31m \u001b[0md\u001b[0m \u001b[0;34m=\u001b[0m \u001b[0ma\u001b[0m\u001b[0;34m>>\u001b[0m\u001b[0mb\u001b[0m\u001b[0;34m\u001b[0m\u001b[0m\n\u001b[0m\u001b[1;32m     13\u001b[0m \u001b[0;34m\u001b[0m\u001b[0m\n\u001b[1;32m     14\u001b[0m \u001b[0mprint\u001b[0m \u001b[0;34m(\u001b[0m\u001b[0md\u001b[0m\u001b[0;34m)\u001b[0m\u001b[0;34m\u001b[0m\u001b[0m\n",
      "\u001b[0;31mTypeError\u001b[0m: unsupported operand type(s) for >>: 'list' and 'list'"
     ]
    }
   ],
   "source": [
    "# Find implements that are not same within 2 array XOR is way to go\n",
    "#Duplicate within Array\n",
    "# Remove duplicates in a list. Google\n",
    "a = [1,2,3,4,5,6,7]\n",
    "b = [1,2,3,4,5,5,9]\n",
    "\n",
    "print (set(a)^set(b))  #bitwise OR\n",
    "print (set(a)&set(b))  #bitwise and \n",
    "\n",
    "c = [1,2,3,4,4,5,2,5]\n",
    "\n",
    "d = a>>b\n",
    "\n",
    "print (d)\n",
    "\n",
    "# Iteratively with 2 for loops by making copy of c O(N2)\n",
    "# add elements to dictionary and maintain count O(N)\n",
    "#use a hash table and iterate over hash and add unique items to newlist\n",
    "\n",
    "\n",
    "\n"
   ]
  },
  {
   "cell_type": "code",
   "execution_count": 1,
   "metadata": {},
   "outputs": [
    {
     "data": {
      "text/plain": [
       "3.0"
      ]
     },
     "execution_count": 1,
     "metadata": {},
     "output_type": "execute_result"
    }
   ],
   "source": [
    "#missing number from series 1,2,3,4,...6 = 5   n * (n+1)/2 \n",
    "def missingNumber(nums):\n",
    "    return nums[-1] * (nums[-1]+1) / 2 - sum(nums)\n",
    "nums = [1,2,4]\n",
    "missingNumber(nums)"
   ]
  },
  {
   "cell_type": "code",
   "execution_count": 40,
   "metadata": {},
   "outputs": [
    {
     "data": {
      "text/plain": [
       "4"
      ]
     },
     "execution_count": 40,
     "metadata": {},
     "output_type": "execute_result"
    }
   ],
   "source": [
    "#Given an unsorted array of integers, find the length of longest continuous increasing subsequence.\n",
    "#Input: [1,3,5,4,7]\n",
    "#Output: 3\n",
    "# Check if current is more than prev element increment the counter \n",
    "\n",
    "def longest_subsequence(arr):\n",
    "    if len(arr) ==1:\n",
    "        return 1\n",
    "    \n",
    "    cnt = 0\n",
    "    res =0\n",
    "    \n",
    "    for i  in range(0, len(arr)):\n",
    "        \n",
    "        if(i == 0 or arr[i-1] < arr[i]):\n",
    "            cnt =  cnt + 1\n",
    "            res = max(res, cnt)\n",
    "        else:\n",
    "            cnt = 1\n",
    "               \n",
    "            \n",
    "    return res\n",
    "\n",
    "arr = [1,3,7,8,2,4]\n",
    "longest_subsequence(arr)"
   ]
  },
  {
   "cell_type": "code",
   "execution_count": 49,
   "metadata": {},
   "outputs": [
    {
     "name": "stdout",
     "output_type": "stream",
     "text": [
      "[] - [8] - []\n",
      "[] - [2] - [8]\n",
      "[] - [11] - []\n",
      "[11] - [12] - []\n",
      "[11, 12] - [19] - []\n",
      "[2, 8] - [10] - [11, 12, 19]\n"
     ]
    },
    {
     "data": {
      "text/plain": [
       "[2, 8, 10, 11, 12, 19]"
      ]
     },
     "execution_count": 49,
     "metadata": {},
     "output_type": "execute_result"
    }
   ],
   "source": [
    "#Rearrange a array by given index (Smaller ones go left and bigger ones go right); \n",
    "#get the len of array\n",
    "# find mid of array\n",
    "# Sorting Algo like Quicksort or Mergesort\n",
    "def quicksort(arr):\n",
    "    if not arr:\n",
    "        return []\n",
    "    \n",
    "    pivot = [x for x in arr if x == arr[-1]]\n",
    "    \n",
    "    \n",
    "    lesser = quicksort([x for x in arr if x < arr[-1]])\n",
    "    greater = quicksort([x for x in arr if x > arr[-1]])\n",
    "    \n",
    "    print (lesser,\"-\",pivot,\"-\",greater)\n",
    "    return lesser + pivot + greater\n",
    "\n",
    "arr = [11,8,2,12,19,10]\n",
    "quicksort(arr)\n",
    "\n",
    "\n"
   ]
  },
  {
   "cell_type": "code",
   "execution_count": 43,
   "metadata": {
    "collapsed": true
   },
   "outputs": [],
   "source": [
    "#Google\n",
    "#How do you generate all sets from an array and what is the time complexity.  "
   ]
  },
  {
   "cell_type": "code",
   "execution_count": null,
   "metadata": {
    "collapsed": true
   },
   "outputs": [],
   "source": [
    "#Google\n",
    "#Fastest way to find n max items in an unsorted array \n",
    "# arr = [10,11,12,111,100,120,20]  n = 2  first 2 largest elemetns  =120, 111\n"
   ]
  },
  {
   "cell_type": "code",
   "execution_count": null,
   "metadata": {
    "collapsed": true
   },
   "outputs": [],
   "source": [
    "#Google\n",
    "#Print Matrix spiral order(top-down - bottom-up pattern)"
   ]
  },
  {
   "cell_type": "code",
   "execution_count": 54,
   "metadata": {},
   "outputs": [
    {
     "data": {
      "text/plain": [
       "[]"
      ]
     },
     "execution_count": 54,
     "metadata": {},
     "output_type": "execute_result"
    }
   ],
   "source": [
    "#Google\n",
    "#Find the peak in given array\n",
    "\n",
    "def peak_array(arr):\n",
    "    \n",
    "    for i in range(len(arr)-1):\n",
    "        if i !=0 and arr[i-1]<arr[i]:\n",
    "            return arr[i]    # if you need all the peaks add the peak elements to list and return list\n",
    "    return []\n",
    "\n",
    "arr =[10,8,11,12,14]\n",
    "arr1 = [10,9,8,7,5]\n",
    "peak_array(arr1)"
   ]
  },
  {
   "cell_type": "code",
   "execution_count": 9,
   "metadata": {},
   "outputs": [
    {
     "name": "stdout",
     "output_type": "stream",
     "text": [
      "mat 4\n",
      "5\n",
      "[5, 1, 2, 3]\n",
      "[9, 6, 7, 4]\n",
      "[10, 11, 12, 8]\n"
     ]
    }
   ],
   "source": [
    "#Google\n",
    "#Rotate a matrix \n",
    "# Function to rotate a matrix\n",
    "def rotateMatrix(mat):\n",
    " \n",
    "    if not len(mat):\n",
    "        return\n",
    "     \n",
    "    \"\"\"\n",
    "        top : starting row index\n",
    "        bottom : ending row index\n",
    "        left : starting column index\n",
    "        right : ending column index\n",
    "    \"\"\"\n",
    " \n",
    "    top = 0\n",
    "    bottom = len(mat)-1\n",
    " \n",
    "    left = 0\n",
    "    print (\"mat\",len(mat[0]))\n",
    "    right = len(mat[0])-1\n",
    " \n",
    "    while left < right and top < bottom:\n",
    " \n",
    "        # Store the first element of next row,\n",
    "        # this element will replace first element of\n",
    "        # current row\n",
    "        prev = mat[top+1][left]\n",
    "        print(prev)\n",
    " \n",
    "        # Move elements of top row one step right\n",
    "        for i in range(left, right+1):\n",
    "            curr = mat[top][i]\n",
    "            mat[top][i] = prev\n",
    "            prev = curr\n",
    " \n",
    "        top += 1\n",
    " \n",
    "        # Move elements of rightmost column one step downwards\n",
    "        for i in range(top, bottom+1):\n",
    "            curr = mat[i][right]\n",
    "            mat[i][right] = prev\n",
    "            prev = curr\n",
    " \n",
    "        right -= 1\n",
    " \n",
    "        # Move elements of bottom row one step left\n",
    "        for i in range(right, left-1, -1):\n",
    "            curr = mat[bottom][i]\n",
    "            mat[bottom][i] = prev\n",
    "            prev = curr\n",
    " \n",
    "        bottom -= 1\n",
    " \n",
    "        # Move elements of leftmost column one step upwards\n",
    "        for i in range(bottom, top-1, -1):\n",
    "            curr = mat[i][left]\n",
    "            mat[i][left] = prev\n",
    "            prev = curr\n",
    " \n",
    "        left += 1\n",
    " \n",
    "    return mat\n",
    "\n",
    "# Utility Function\n",
    "def printMatrix(mat):\n",
    "    for row in mat:\n",
    "        print (row)\n",
    " \n",
    " \n",
    "# Test case 1\n",
    "matrix =[ \n",
    "            [1,  2,  3,  4 ],\n",
    "            [5,  6,  7,  8 ],\n",
    "            [9,  10, 11, 12 ]\n",
    "            \n",
    "        ]\n",
    "# Test case 2\n",
    "\"\"\"\n",
    "matrix =[\n",
    "            [1, 2, 3],\n",
    "            [4, 5, 6],\n",
    "            [7, 8, 9]\n",
    "        ]\n",
    "\"\"\"\n",
    " \n",
    "matrix = rotateMatrix(matrix)\n",
    "# Print modified matrix\n",
    "printMatrix(matrix)\n",
    "\n",
    "\n"
   ]
  },
  {
   "cell_type": "code",
   "execution_count": null,
   "metadata": {
    "collapsed": true
   },
   "outputs": [],
   "source": [
    "#Google\n",
    "#Given an array of integers, return an array consisting of the product of N-1 elements"
   ]
  },
  {
   "cell_type": "code",
   "execution_count": 21,
   "metadata": {
    "collapsed": true
   },
   "outputs": [],
   "source": [
    "#Prefix Trie\n",
    "# Dict to solve\n",
    "# a..z dict and vals  - > link to next dict\n",
    "wordkey ='\\n'\n",
    "\n",
    "class PrefixTree:\n",
    "    def __init__(self):\n",
    "        self.root = {}\n",
    "    \n",
    "    def add(self,value):\n",
    "        dict =  self.root\n",
    "        \n",
    "        while len(value)>0:\n",
    "            c =  value[0]\n",
    "            if c not in dict:\n",
    "                dict[c] = {}\n",
    "            \n",
    "            dict =  dict[c]\n",
    "            value = value[1:]\n",
    "    \n",
    "        if wordkey in dict:\n",
    "            return False\n",
    "        \n",
    "        dict[wordkey] = True\n",
    "        return True\n",
    "    \n",
    "    \n",
    "    def find(self, value):\n",
    "        dict = self.root\n",
    "        while len(value)>0:\n",
    "            c = value[0]\n",
    "            if c not in dict:\n",
    "                return False\n",
    "            dict = dict[c]\n",
    "            value = value[1:]\n",
    "            \n",
    "        return wordkey in dict\n",
    "    \n",
    "    def startsWith(self, prefix):\n",
    "        current = self.root\n",
    "        for letter in prefix:\n",
    "            if letter not in current:\n",
    "                return False\n",
    "            current = current[letter]\n",
    "        return True\n",
    "\n",
    "    \n",
    "        "
   ]
  },
  {
   "cell_type": "code",
   "execution_count": 22,
   "metadata": {},
   "outputs": [
    {
     "data": {
      "text/plain": [
       "False"
      ]
     },
     "execution_count": 22,
     "metadata": {},
     "output_type": "execute_result"
    }
   ],
   "source": [
    "s = PrefixTree()\n",
    "s.add('in')\n",
    "s.add('inch')\n",
    "s.find('inc')"
   ]
  },
  {
   "cell_type": "code",
   "execution_count": 24,
   "metadata": {},
   "outputs": [
    {
     "data": {
      "text/plain": [
       "False"
      ]
     },
     "execution_count": 24,
     "metadata": {},
     "output_type": "execute_result"
    }
   ],
   "source": [
    "s.startsWith('an')"
   ]
  },
  {
   "cell_type": "code",
   "execution_count": 35,
   "metadata": {},
   "outputs": [
    {
     "data": {
      "text/plain": [
       "False"
      ]
     },
     "execution_count": 35,
     "metadata": {},
     "output_type": "execute_result"
    }
   ],
   "source": [
    "#Complexity O(m+n\n",
    "def search_matrix(matrix,target):    \n",
    "   \n",
    "    if len(matrix)<1:\n",
    "        return False\n",
    "    \n",
    "    col = len(matrix[0])-1 \n",
    "    row = 0\n",
    "    \n",
    "    while col >= 0 and row <= len(matrix)-1:\n",
    "        if target == matrix[row][col]:\n",
    "            return True #We have found \n",
    "        elif target < matrix[row][col]:\n",
    "            col = col - 1\n",
    "        elif target> matrix[row][col]:\n",
    "            row = row + 1\n",
    "    return False\n",
    "        \n",
    "\n",
    "matrix =[ \n",
    "            [1,  2,  3,  4 ],\n",
    "            [5,  6,  7,  8 ],\n",
    "            [9,  10, 11, 12 ]\n",
    "            \n",
    "        ] \n",
    "search_matrix(matrix,120)"
   ]
  },
  {
   "cell_type": "code",
   "execution_count": 36,
   "metadata": {},
   "outputs": [
    {
     "name": "stdout",
     "output_type": "stream",
     "text": [
      "[20, 80]\n"
     ]
    }
   ],
   "source": [
    "# http://www.geeksforgeeks.org/find-common-elements-three-sorted-arrays/\n",
    "# Use SET\n",
    "def common_elements(input1, input2, input3):\n",
    "    result = []\n",
    "    i = 0\n",
    "    j = 0\n",
    "    k = 0\n",
    "    while i < len(input1) and j < len(input2) and k < len(input3):\n",
    "        if input1[i] == input2[j] and input2[j] == input3[k]:\n",
    "            result.append(input1[i])\n",
    "            i = i + 1\n",
    "            j = j + 1\n",
    "            k = k + 1\n",
    "        elif input1[i] < input2[j]:\n",
    "            i = i + 1\n",
    "        elif input2[j] < input3[k]:\n",
    "            j = j + 1\n",
    "        else:\n",
    "            k = k + 1\n",
    "    return result\n",
    "\n",
    "if __name__ == '__main__':\n",
    "    input1 = [1, 5, 10, 20, 40, 80]\n",
    "    input2 = [6, 7, 20, 80, 100]\n",
    "    input3 = [3, 4, 15, 20, 30, 70, 80, 120]\n",
    "\n",
    "    print(common_elements(input1, input2, input3))"
   ]
  },
  {
   "cell_type": "code",
   "execution_count": 61,
   "metadata": {},
   "outputs": [
    {
     "name": "stdout",
     "output_type": "stream",
     "text": [
      "{80, 20}\n"
     ]
    }
   ],
   "source": [
    "input1 = [1, 5, 10, 20, 40, 80]\n",
    "input2 = [6, 7, 20, 80, 100]\n",
    "input3 = [3, 4, 15, 20, 30, 70, 80, 120]\n",
    "\n",
    "print(set(input1).intersection(input2).intersection(input3))"
   ]
  },
  {
   "cell_type": "code",
   "execution_count": 60,
   "metadata": {},
   "outputs": [
    {
     "name": "stdout",
     "output_type": "stream",
     "text": [
      "0\n",
      "1\n",
      "2\n",
      "3\n",
      "[[-2, 0, 1], [-2, 0, 1], [-2, 0, 1], [-2, 0, 1]]\n"
     ]
    }
   ],
   "source": [
    "#i<j<k < target\n",
    "\n",
    "def threeSumSmaller(nums, target):\n",
    "    #sorted_nums = [] \n",
    "    sorted_nums = sorted(nums)\n",
    "    result = []\n",
    "    m_len = len(nums)\n",
    "    \n",
    "    if sum(nums)< target:\n",
    "        result.append(nums)\n",
    "        print(\"1\")\n",
    "    \n",
    "    for i in range(m_len):\n",
    "        print (i)\n",
    "        \n",
    "        if (sum(sorted_nums[:m_len -1])) <target:\n",
    "            result.append(sorted_nums[:m_len -1])\n",
    "    \n",
    "    #if sum(sorted_nums[:len(sorted_nums) -1]):\n",
    "    #    result.append(sorted_nums[:len(sorted_nums) -1])\n",
    "    #    print(\"2\")\n",
    "              \n",
    "    print(result)\n",
    "\n",
    "\n",
    "\n",
    "nums = [-2, 0, 1, 3]\n",
    "threeSumSmaller(nums, 2)"
   ]
  },
  {
   "cell_type": "code",
   "execution_count": 75,
   "metadata": {},
   "outputs": [
    {
     "name": "stdout",
     "output_type": "stream",
     "text": [
      "[1, 4, 2, 5, 3, 6]\n"
     ]
    }
   ],
   "source": []
  },
  {
   "cell_type": "code",
   "execution_count": 101,
   "metadata": {
    "collapsed": true
   },
   "outputs": [],
   "source": [
    "\"\"\"\n",
    "Wiggle Sort\n",
    "Difficulty:Medium\n",
    "\n",
    "Given an unsorted array nums, reorder it in-place such that nums[0] <= nums[1] >= nums[2] <= nums[3]....\n",
    "\n",
    "For example, given nums = [3, 5, 2, 1, 6, 4], one possible answer is [1, 6, 2, 5, 3, 4].\n",
    "\"\"\"\n",
    "class Solution(object):\n",
    "    def wiggle_sort(self, nums):\n",
    "        \"\"\"\n",
    "        :type nums: List[int]\n",
    "        :rtype: void Do not return anything, modify nums in-place instead.\n",
    "        \"\"\"\n",
    "        if len(nums)<1:\n",
    "            return False\n",
    "        \n",
    "        s_arr = sorted(nums)\n",
    "        result =[]\n",
    "\n",
    "        mid =  len(nums)//2\n",
    "        arr_pre =  s_arr[0:mid]\n",
    "        arr_post = s_arr[mid:]\n",
    "\n",
    "        for i,j in zip(arr_pre,arr_post): \n",
    "            result.append(i)\n",
    "            result.append(j)\n",
    "        \n",
    "        return result\n",
    "\n",
    "#Seems buggy....\n",
    "class Solution2(object):\n",
    "    def wiggle_sort2(self, a):\n",
    "        if not a:\n",
    "            return\n",
    "        n = len(a)\n",
    "        for i in range(1, n, 2):\n",
    "            if a[i] < a[i-1]:\n",
    "                a[i], a[i-1] = a[i-1], a[i]\n",
    "            \n",
    "            if i + 1 < n and a[i] < a[i+1]:\n",
    "                a[i], a[i+1] = a[i+1], a[i]\n",
    "        return a"
   ]
  },
  {
   "cell_type": "code",
   "execution_count": 102,
   "metadata": {},
   "outputs": [
    {
     "data": {
      "text/plain": [
       "[1, 4, 2, 5, 3, 6]"
      ]
     },
     "execution_count": 102,
     "metadata": {},
     "output_type": "execute_result"
    }
   ],
   "source": [
    "s = Solution()\n",
    "arr =  [3,5,2,1,6,4]\n",
    "s.wiggle_sort(arr)\n",
    "\n"
   ]
  },
  {
   "cell_type": "code",
   "execution_count": 104,
   "metadata": {},
   "outputs": [
    {
     "data": {
      "text/plain": [
       "[3, 5, 1, 6, 2, 4]"
      ]
     },
     "execution_count": 104,
     "metadata": {},
     "output_type": "execute_result"
    }
   ],
   "source": [
    "ss = Solution2()\n",
    "arr =  [3, 5, 2, 1, 6, 4]\n",
    "ss.wiggle_sort2(arr)"
   ]
  },
  {
   "cell_type": "code",
   "execution_count": 9,
   "metadata": {},
   "outputs": [
    {
     "ename": "AttributeError",
     "evalue": "'list' object has no attribute 'start'",
     "output_type": "error",
     "traceback": [
      "\u001b[0;31m---------------------------------------------------------------------------\u001b[0m",
      "\u001b[0;31mAttributeError\u001b[0m                            Traceback (most recent call last)",
      "\u001b[0;32m<ipython-input-9-d0a43c0889a9>\u001b[0m in \u001b[0;36m<module>\u001b[0;34m()\u001b[0m\n\u001b[1;32m      9\u001b[0m \u001b[0;34m\u001b[0m\u001b[0m\n\u001b[1;32m     10\u001b[0m \u001b[0mintervals\u001b[0m \u001b[0;34m=\u001b[0m\u001b[0;34m[\u001b[0m\u001b[0;34m[\u001b[0m\u001b[0;36m1\u001b[0m\u001b[0;34m,\u001b[0m\u001b[0;36m3\u001b[0m\u001b[0;34m]\u001b[0m\u001b[0;34m,\u001b[0m\u001b[0;34m[\u001b[0m\u001b[0;36m2\u001b[0m\u001b[0;34m,\u001b[0m\u001b[0;36m6\u001b[0m\u001b[0;34m]\u001b[0m\u001b[0;34m,\u001b[0m\u001b[0;34m[\u001b[0m\u001b[0;36m8\u001b[0m\u001b[0;34m,\u001b[0m\u001b[0;36m10\u001b[0m\u001b[0;34m]\u001b[0m\u001b[0;34m,\u001b[0m\u001b[0;34m[\u001b[0m\u001b[0;36m15\u001b[0m\u001b[0;34m,\u001b[0m\u001b[0;36m18\u001b[0m\u001b[0;34m]\u001b[0m\u001b[0;34m]\u001b[0m\u001b[0;34m\u001b[0m\u001b[0m\n\u001b[0;32m---> 11\u001b[0;31m \u001b[0mmerge\u001b[0m\u001b[0;34m(\u001b[0m\u001b[0mintervals\u001b[0m\u001b[0;34m)\u001b[0m\u001b[0;34m\u001b[0m\u001b[0m\n\u001b[0m",
      "\u001b[0;32m<ipython-input-9-d0a43c0889a9>\u001b[0m in \u001b[0;36mmerge\u001b[0;34m(intervals)\u001b[0m\n\u001b[1;32m      1\u001b[0m \u001b[0;32mdef\u001b[0m \u001b[0mmerge\u001b[0m\u001b[0;34m(\u001b[0m\u001b[0mintervals\u001b[0m\u001b[0;34m)\u001b[0m\u001b[0;34m:\u001b[0m\u001b[0;34m\u001b[0m\u001b[0m\n\u001b[1;32m      2\u001b[0m     \u001b[0mout\u001b[0m \u001b[0;34m=\u001b[0m \u001b[0;34m[\u001b[0m\u001b[0;34m]\u001b[0m\u001b[0;34m\u001b[0m\u001b[0m\n\u001b[0;32m----> 3\u001b[0;31m     \u001b[0;32mfor\u001b[0m \u001b[0mi\u001b[0m \u001b[0;32min\u001b[0m \u001b[0msorted\u001b[0m\u001b[0;34m(\u001b[0m\u001b[0mintervals\u001b[0m\u001b[0;34m,\u001b[0m \u001b[0mkey\u001b[0m\u001b[0;34m=\u001b[0m\u001b[0;32mlambda\u001b[0m \u001b[0mi\u001b[0m\u001b[0;34m:\u001b[0m \u001b[0mi\u001b[0m\u001b[0;34m.\u001b[0m\u001b[0mstart\u001b[0m\u001b[0;34m)\u001b[0m\u001b[0;34m:\u001b[0m\u001b[0;34m\u001b[0m\u001b[0m\n\u001b[0m\u001b[1;32m      4\u001b[0m         \u001b[0;32mif\u001b[0m \u001b[0mout\u001b[0m \u001b[0;32mand\u001b[0m \u001b[0mi\u001b[0m\u001b[0;34m.\u001b[0m\u001b[0mstart\u001b[0m \u001b[0;34m<=\u001b[0m \u001b[0mout\u001b[0m\u001b[0;34m[\u001b[0m\u001b[0;34m-\u001b[0m\u001b[0;36m1\u001b[0m\u001b[0;34m]\u001b[0m\u001b[0;34m.\u001b[0m\u001b[0mend\u001b[0m\u001b[0;34m:\u001b[0m\u001b[0;34m\u001b[0m\u001b[0m\n\u001b[1;32m      5\u001b[0m             \u001b[0mout\u001b[0m\u001b[0;34m[\u001b[0m\u001b[0;34m-\u001b[0m\u001b[0;36m1\u001b[0m\u001b[0;34m]\u001b[0m\u001b[0;34m.\u001b[0m\u001b[0mend\u001b[0m \u001b[0;34m=\u001b[0m \u001b[0mmax\u001b[0m\u001b[0;34m(\u001b[0m\u001b[0mout\u001b[0m\u001b[0;34m[\u001b[0m\u001b[0;34m-\u001b[0m\u001b[0;36m1\u001b[0m\u001b[0;34m]\u001b[0m\u001b[0;34m.\u001b[0m\u001b[0mend\u001b[0m\u001b[0;34m,\u001b[0m \u001b[0mi\u001b[0m\u001b[0;34m.\u001b[0m\u001b[0mend\u001b[0m\u001b[0;34m)\u001b[0m\u001b[0;34m\u001b[0m\u001b[0m\n",
      "\u001b[0;32m<ipython-input-9-d0a43c0889a9>\u001b[0m in \u001b[0;36m<lambda>\u001b[0;34m(i)\u001b[0m\n\u001b[1;32m      1\u001b[0m \u001b[0;32mdef\u001b[0m \u001b[0mmerge\u001b[0m\u001b[0;34m(\u001b[0m\u001b[0mintervals\u001b[0m\u001b[0;34m)\u001b[0m\u001b[0;34m:\u001b[0m\u001b[0;34m\u001b[0m\u001b[0m\n\u001b[1;32m      2\u001b[0m     \u001b[0mout\u001b[0m \u001b[0;34m=\u001b[0m \u001b[0;34m[\u001b[0m\u001b[0;34m]\u001b[0m\u001b[0;34m\u001b[0m\u001b[0m\n\u001b[0;32m----> 3\u001b[0;31m     \u001b[0;32mfor\u001b[0m \u001b[0mi\u001b[0m \u001b[0;32min\u001b[0m \u001b[0msorted\u001b[0m\u001b[0;34m(\u001b[0m\u001b[0mintervals\u001b[0m\u001b[0;34m,\u001b[0m \u001b[0mkey\u001b[0m\u001b[0;34m=\u001b[0m\u001b[0;32mlambda\u001b[0m \u001b[0mi\u001b[0m\u001b[0;34m:\u001b[0m \u001b[0mi\u001b[0m\u001b[0;34m.\u001b[0m\u001b[0mstart\u001b[0m\u001b[0;34m)\u001b[0m\u001b[0;34m:\u001b[0m\u001b[0;34m\u001b[0m\u001b[0m\n\u001b[0m\u001b[1;32m      4\u001b[0m         \u001b[0;32mif\u001b[0m \u001b[0mout\u001b[0m \u001b[0;32mand\u001b[0m \u001b[0mi\u001b[0m\u001b[0;34m.\u001b[0m\u001b[0mstart\u001b[0m \u001b[0;34m<=\u001b[0m \u001b[0mout\u001b[0m\u001b[0;34m[\u001b[0m\u001b[0;34m-\u001b[0m\u001b[0;36m1\u001b[0m\u001b[0;34m]\u001b[0m\u001b[0;34m.\u001b[0m\u001b[0mend\u001b[0m\u001b[0;34m:\u001b[0m\u001b[0;34m\u001b[0m\u001b[0m\n\u001b[1;32m      5\u001b[0m             \u001b[0mout\u001b[0m\u001b[0;34m[\u001b[0m\u001b[0;34m-\u001b[0m\u001b[0;36m1\u001b[0m\u001b[0;34m]\u001b[0m\u001b[0;34m.\u001b[0m\u001b[0mend\u001b[0m \u001b[0;34m=\u001b[0m \u001b[0mmax\u001b[0m\u001b[0;34m(\u001b[0m\u001b[0mout\u001b[0m\u001b[0;34m[\u001b[0m\u001b[0;34m-\u001b[0m\u001b[0;36m1\u001b[0m\u001b[0;34m]\u001b[0m\u001b[0;34m.\u001b[0m\u001b[0mend\u001b[0m\u001b[0;34m,\u001b[0m \u001b[0mi\u001b[0m\u001b[0;34m.\u001b[0m\u001b[0mend\u001b[0m\u001b[0;34m)\u001b[0m\u001b[0;34m\u001b[0m\u001b[0m\n",
      "\u001b[0;31mAttributeError\u001b[0m: 'list' object has no attribute 'start'"
     ]
    }
   ],
   "source": [
    "#TODO BUGGY\n",
    "def merge(intervals):\n",
    "    out = []\n",
    "    for i in sorted(intervals, key=lambda i: i.start):\n",
    "        if out and i.start <= out[-1].end:\n",
    "            out[-1].end = max(out[-1].end, i.end)\n",
    "        else:\n",
    "            out += i,\n",
    "    return out\n",
    "\n",
    "intervals =[[1,3],[2,6],[8,10],[15,18]]\n",
    "merge(intervals)"
   ]
  },
  {
   "cell_type": "code",
   "execution_count": 29,
   "metadata": {},
   "outputs": [],
   "source": [
    "#Given nums = [2, 7, 11, 15], target = 9,\n",
    "# ON^2\n",
    "class Solution(object):\n",
    "    def two_sum(self,nums,target):\n",
    "        \n",
    "        \n",
    "        for i in range(len(nums)):\n",
    "            for j in range(1,len(nums)):\n",
    "                \n",
    "                if nums[j] == target - nums[i]:\n",
    "                    return [i,j]\n",
    "           \n",
    "\n",
    "\n",
    "class Solution2(object): #O(n)\n",
    "    def twoSum2(self, nums, target):\n",
    "        if len(nums) <= 1:\n",
    "            return False\n",
    "        buff_dict = {}\n",
    "        for i in range(len(nums)):\n",
    "            if nums[i] in buff_dict:\n",
    "                print( [buff_dict[nums[i]], i])\n",
    "            else:\n",
    "                buff_dict[target - nums[i]] = i   \n",
    "   \n",
    "        \n",
    "        "
   ]
  },
  {
   "cell_type": "code",
   "execution_count": 31,
   "metadata": {},
   "outputs": [
    {
     "data": {
      "text/plain": [
       "[0, 2]"
      ]
     },
     "execution_count": 31,
     "metadata": {},
     "output_type": "execute_result"
    }
   ],
   "source": [
    "s1 = Solution()\n",
    "nums = [1,2,3,4]\n",
    "target = 3\n",
    "s1.two_sum(nums,target)"
   ]
  },
  {
   "cell_type": "code",
   "execution_count": 43,
   "metadata": {
    "collapsed": true
   },
   "outputs": [],
   "source": [
    "\"\"\"\n",
    "There are two sorted arrays nums1 and nums2 of size m and n respectively.\n",
    "\n",
    "Find the median of the two sorted arrays. The overall run time complexity should be O(log (m+n)).\n",
    "\n",
    "Example 1:\n",
    "nums1 = [1, 3]\n",
    "nums2 = [2]\n",
    "\n",
    "The median is 2.0\n",
    "Example 2:\n",
    "nums1 = [1, 2]\n",
    "nums2 = [3, 4]\n",
    "\n",
    "The median is (2 + 3)/2 = 2.5\n",
    "\"\"\"\n",
    "\n",
    "class Solution(object):\n",
    "    def find_median(self, arr1, arr2):\n",
    "        arr = arr1 + arr2\n",
    "        arr = sorted(arr)\n",
    "        \n",
    "        mid = len(arr)//2\n",
    "        \n",
    "        median = 0\n",
    "        if len(arr)%2==0:\n",
    "            #Even number of elements median =  max(left)+  min(right)/2\n",
    "            median = (max(arr[0:mid]) + min(arr[mid:]))/2.0\n",
    "            return median\n",
    "        else:\n",
    "            #odd length\n",
    "            return arr[mid]\n",
    "        \n",
    "\n",
    "    \n",
    "\n"
   ]
  },
  {
   "cell_type": "code",
   "execution_count": 44,
   "metadata": {},
   "outputs": [
    {
     "data": {
      "text/plain": [
       "2.5"
      ]
     },
     "execution_count": 44,
     "metadata": {},
     "output_type": "execute_result"
    }
   ],
   "source": [
    "median =  Solution()\n",
    "arr1 = [1,2]\n",
    "arr2 = [3, 4]\n",
    "\n",
    "median.find_median(arr1,arr2)\n"
   ]
  },
  {
   "cell_type": "code",
   "execution_count": 58,
   "metadata": {},
   "outputs": [],
   "source": [
    "#Longest Common Prefix\n",
    "# \n",
    "class Solution:\n",
    "    # @return a string\n",
    "    def longestCommonPrefix(self, strs):\n",
    "        if not strs:\n",
    "            return \"\"\n",
    "            \n",
    "        for i, letter_group in enumerate(zip(*strs)):\n",
    "            if len(set(letter_group)) > 1:\n",
    "                return strs[0][:i]\n",
    "        else:\n",
    "            return min(strs)\n",
    "        \n",
    "            \n",
    "            \n",
    "    \n"
   ]
  },
  {
   "cell_type": "code",
   "execution_count": 59,
   "metadata": {},
   "outputs": [
    {
     "data": {
      "text/plain": [
       "''"
      ]
     },
     "execution_count": 59,
     "metadata": {},
     "output_type": "execute_result"
    }
   ],
   "source": [
    "myPrefixObject =  Solution()\n",
    "strings =[\"Leesa\",\"leetaode\",\"leetx\",\"leett\",\"leets\"]\n",
    "myPrefixObject.longestCommonPrefix(strings)\n"
   ]
  },
  {
   "cell_type": "code",
   "execution_count": 108,
   "metadata": {},
   "outputs": [
    {
     "name": "stdout",
     "output_type": "stream",
     "text": [
      "4\n",
      "2\n"
     ]
    }
   ],
   "source": [
    "\"\"\"\n",
    "Given a contiguous sequence of numbers in which each number repeats thrice, there is exactly one missing number. Find the missing number.\n",
    "eg: 11122333 : Missing number 2\n",
    "11122233344455666 Missing number 5\n",
    "\"\"\"\n",
    "\n",
    "\n",
    "def missing_number(num):\n",
    "    dict ={}\n",
    "    \n",
    "    while num>0:\n",
    "        rem = num%10\n",
    "        \n",
    "        if rem not in dict:\n",
    "            dict[rem] = 1\n",
    "        else:\n",
    "            dict[rem] = dict.get(rem) + 1\n",
    "        \n",
    "        num = num//10\n",
    "    \n",
    "    for key, val in dict.items():\n",
    "        if val == 2:\n",
    "            print (key)\n",
    "            \n",
    "\n",
    "missing_number(1112233344)"
   ]
  },
  {
   "cell_type": "code",
   "execution_count": 12,
   "metadata": {},
   "outputs": [
    {
     "name": "stdout",
     "output_type": "stream",
     "text": [
      "[1, 2, 3]\n",
      "Y 123\n",
      "[['1', '2', '3'], ['2', '1', '3'], ['2', '3', '1'], ['1', '3', '2'], ['3', '1', '2'], ['3', '2', '1']]\n",
      "None\n"
     ]
    }
   ],
   "source": [
    "# 4\n",
    "# 0 2 3 0\n",
    "\n",
    "def solve(x):\n",
    "    # Complete this function\n",
    "    \n",
    "    print (x)\n",
    "    num =[]\n",
    "    \n",
    "    for i in range(1,len(x)+1):\n",
    "        num.append(i)\n",
    "    \n",
    "    myPerms = permute(''.join(str(e) for e in num))\n",
    "    \n",
    "    \n",
    "    print (myPerms)\n",
    "    \n",
    "def permute(nums):\n",
    "    return nums and [p[:i] + [nums[0]] + p[i:]\n",
    "                     for p in permute(nums[1:])\n",
    "                     for i in range(len(nums))] or [[]]\n",
    "\n",
    "\n",
    "if __name__ == \"__main__\":\n",
    "    n = 3\n",
    "    a = [0,2,0]\n",
    "    #print(a)\n",
    "    result = solve(a)\n",
    "    print(result)"
   ]
  },
  {
   "cell_type": "code",
   "execution_count": 36,
   "metadata": {
    "collapsed": true
   },
   "outputs": [],
   "source": [
    "\"\"\"\n",
    "Given an array of n integers where n > 1, nums, return an array output such that output[i] is equal to the product of all the elements of nums except nums[i].\n",
    "\n",
    "Solve it without division and in O(n).\n",
    "\n",
    "For example, given [1,2,3,4], return [24,12,8,6].\n",
    "Product of whole array / element  = new result array\n",
    "\n",
    "1*2*3*4 =24\n",
    "24/1 = 24\n",
    "24/2 = 12\n",
    "24/3 = 8\n",
    "24/6 = 4\n",
    "\n",
    "if 0 all elements 0 except for 0\n",
    "\n",
    "\"\"\"\n",
    "class Solution(object):\n",
    "    def product_array(self, arr):\n",
    "        \n",
    "        if len(arr) <1:\n",
    "            return 0\n",
    "        \n",
    "        prod_arr = 1\n",
    "        prod_arr_0 = 1\n",
    "        \n",
    "        result = []\n",
    "        for i in arr:\n",
    "            if i!=0:\n",
    "                prod_arr_0 = prod_arr_0 * i\n",
    "                \n",
    "            prod_arr = prod_arr*i\n",
    "        \n",
    "        for element in arr:\n",
    "            if element ==0:\n",
    "                result.append(prod_arr_0)\n",
    "            else:\n",
    "                result.append(prod_arr//element)\n",
    "        \n",
    "        return (result)\n",
    "        \n",
    "        \n",
    "    "
   ]
  },
  {
   "cell_type": "code",
   "execution_count": 39,
   "metadata": {},
   "outputs": [
    {
     "data": {
      "text/plain": [
       "[1, 1]"
      ]
     },
     "execution_count": 39,
     "metadata": {},
     "output_type": "execute_result"
    }
   ],
   "source": [
    "parray = Solution()\n",
    "arr = [0,0]\n",
    "parray.product_array(arr)\n",
    "\n",
    "#B"
   ]
  },
  {
   "cell_type": "code",
   "execution_count": 81,
   "metadata": {},
   "outputs": [
    {
     "name": "stdout",
     "output_type": "stream",
     "text": [
      "2 3\n",
      "5 5\n",
      "7 8\n",
      "10 12\n"
     ]
    },
    {
     "data": {
      "text/plain": [
       "[[1, 2], [3, 7], [5, 7], [8, 10]]"
      ]
     },
     "execution_count": 81,
     "metadata": {},
     "output_type": "execute_result"
    }
   ],
   "source": [
    "#buggy --> [1,2],[2,5],[5,7],[8,10],[12,16]\n",
    "def merge( intervals):\n",
    "    intervals = sorted(intervals)\n",
    "    out = []\n",
    "    for i in range(len(intervals)-1):\n",
    "        print (intervals[i][1],intervals[i+1][0])\n",
    "        \n",
    "        if intervals[i][1]>=intervals[i+1][0]:\n",
    "            out.append([intervals[i][0],intervals[i+1][1]])\n",
    "        else:\n",
    "            out.append([intervals[i][0],intervals[i][1]])\n",
    "            \n",
    "    return out\n",
    "\n",
    "arr =[[1,2],[3,5],[5,7],[8,10],[12,16]]\n",
    "merge(arr)"
   ]
  },
  {
   "cell_type": "code",
   "execution_count": 70,
   "metadata": {},
   "outputs": [
    {
     "data": {
      "text/plain": [
       "[[1, 3], [2, 6], [15, 18], [28, 10]]"
      ]
     },
     "execution_count": 70,
     "metadata": {},
     "output_type": "execute_result"
    }
   ],
   "source": []
  },
  {
   "cell_type": "code",
   "execution_count": null,
   "metadata": {
    "collapsed": true
   },
   "outputs": [],
   "source": []
  }
 ],
 "metadata": {
  "kernelspec": {
   "display_name": "Python 3",
   "language": "python",
   "name": "python3"
  },
  "language_info": {
   "codemirror_mode": {
    "name": "ipython",
    "version": 3
   },
   "file_extension": ".py",
   "mimetype": "text/x-python",
   "name": "python",
   "nbconvert_exporter": "python",
   "pygments_lexer": "ipython3",
   "version": "3.6.1"
  }
 },
 "nbformat": 4,
 "nbformat_minor": 2
}

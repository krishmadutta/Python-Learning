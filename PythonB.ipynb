{
 "cells": [
  {
   "cell_type": "code",
   "execution_count": 3,
   "metadata": {},
   "outputs": [
    {
     "name": "stdout",
     "output_type": "stream",
     "text": [
      "94\n"
     ]
    }
   ],
   "source": [
    "#random number generator\n",
    "import random\n",
    "print (random.randint(1,100))\n"
   ]
  },
  {
   "cell_type": "code",
   "execution_count": 14,
   "metadata": {},
   "outputs": [
    {
     "name": "stdout",
     "output_type": "stream",
     "text": [
      "['lions', 'tigers', 'bears', 'ohmy']\n",
      "{'tigers', 'bears', 'ohmy', 'lions'}\n"
     ]
    }
   ],
   "source": [
    "#letters are repeted\n",
    "\n",
    "mylist=['lions', 'tigers', 'bears', 'ohmy','ohmy']\n",
    "newlist =[]\n",
    "for word in mylist:\n",
    "    if word not in newlist:\n",
    "        newlist.append(word)\n",
    "\n",
    "print (newlist)\n",
    "\n",
    "# Use Set\n",
    "print (set(mylist))\n",
    "    \n"
   ]
  },
  {
   "cell_type": "code",
   "execution_count": null,
   "metadata": {
    "collapsed": true
   },
   "outputs": [],
   "source": []
  }
 ],
 "metadata": {
  "kernelspec": {
   "display_name": "Python 3",
   "language": "python",
   "name": "python3"
  },
  "language_info": {
   "codemirror_mode": {
    "name": "ipython",
    "version": 3
   },
   "file_extension": ".py",
   "mimetype": "text/x-python",
   "name": "python",
   "nbconvert_exporter": "python",
   "pygments_lexer": "ipython3",
   "version": "3.6.1"
  }
 },
 "nbformat": 4,
 "nbformat_minor": 2
}

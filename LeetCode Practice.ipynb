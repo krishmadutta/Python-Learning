{
 "cells": [
  {
   "cell_type": "code",
   "execution_count": 31,
   "metadata": {
    "collapsed": true
   },
   "outputs": [],
   "source": [
    "class Solution(object):\n",
    "    def canConstruct(self, ransomNote, magazine):\n",
    "        \"\"\"\n",
    "        :type ransomNote: str\n",
    "        :type magazine: str\n",
    "        :rtype: bool\n",
    "        \"\"\"\n",
    "        #Create magzine into a Dict  => remove it from dic when its used within ransome note\n",
    "        # if word not in Dict return false else true \n",
    "        \n",
    "        dict_mag = {}\n",
    "        \n",
    "        for char in magazine:\n",
    "            if char not in dict_mag:\n",
    "                 dict_mag[char] = 1\n",
    "            else:   \n",
    "                dict_mag[char] = dict_mag.get(char) + 1\n",
    "            \n",
    "        for ransome_char in ransomNote:\n",
    "            \n",
    "            if ransome_char in dict_mag:\n",
    "                print(ransome_char, ransomNote, dict_mag)\n",
    "                dict_mag[ransome_char] = dict_mag.get(ransome_char) -1    \n",
    "            else:\n",
    "                return False\n",
    "        \n",
    "        return True"
   ]
  },
  {
   "cell_type": "code",
   "execution_count": 32,
   "metadata": {},
   "outputs": [
    {
     "name": "stdout",
     "output_type": "stream",
     "text": [
      "a aa {'a': 1, 'b': 1}\n",
      "a aa {'a': 0, 'b': 1}\n"
     ]
    },
    {
     "data": {
      "text/plain": [
       "True"
      ]
     },
     "execution_count": 32,
     "metadata": {},
     "output_type": "execute_result"
    }
   ],
   "source": [
    "s = Solution()\n",
    "s.canConstruct('aa','ab')"
   ]
  },
  {
   "cell_type": "code",
   "execution_count": null,
   "metadata": {
    "collapsed": true
   },
   "outputs": [],
   "source": []
  },
  {
   "cell_type": "code",
   "execution_count": null,
   "metadata": {
    "collapsed": true
   },
   "outputs": [],
   "source": []
  }
 ],
 "metadata": {
  "kernelspec": {
   "display_name": "Python 3",
   "language": "python",
   "name": "python3"
  },
  "language_info": {
   "codemirror_mode": {
    "name": "ipython",
    "version": 3
   },
   "file_extension": ".py",
   "mimetype": "text/x-python",
   "name": "python",
   "nbconvert_exporter": "python",
   "pygments_lexer": "ipython3",
   "version": "3.6.1"
  }
 },
 "nbformat": 4,
 "nbformat_minor": 2
}

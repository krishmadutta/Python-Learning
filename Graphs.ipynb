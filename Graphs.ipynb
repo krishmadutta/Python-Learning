{
 "cells": [
  {
   "cell_type": "markdown",
   "metadata": {},
   "source": [
    "Technical, Cognitve, Culture-Fit and live presentation/demo\n",
    "\n",
    "How to efficiently randomize a deck of cards.\n",
    "Detect cycle in directed graph. \n",
    "Reverse a linked list list  \n",
    "A string consists of ‘0’, ‘1’ and '?'. The question mark can be either '0' or '1'. Find all possible combinations for a string\n",
    "A path finding question involving a 2D matrix filled with 1's and 0's\n",
    "Parse a IPv4 address using RegEx\n",
    "Topological sort for directed Graph \n",
    " graph + sorting algorithms  \n",
    " Given a array find a continuous subarray which equals to a particular sum.  \n",
    " Give a tree(not a BST or a binary tree) which has a value at each node find all continuous paths which sum to a target value.  \n",
    " Given a sentence remove all tokens from it if the reverse of that token occurs previously in it .\n",
    "ex The cat and rat tac tar = the cat and rat  \n",
    "Rotate a matrix \n",
    "How do you generate all sets from an array and what is the time complexity.  \n",
    "Check if one tree is a subtree of another.\n",
    "Write Fibonacci's algorithm without recursion (using dynamic programming) \n",
    "Find n closest points to the origin (any language) \n",
    "Trie node for auto completion  \n",
    "How to perform a binary search or how recursive functions work \n",
    "Print a BST level by level  \n",
    "Write a function to return a palindromic permutation of a string.  \n",
    "Fastest way to find n max items in an unsorted array \n",
    "Given an array of integers, return an array consisting of the product of N-1 elements\n",
    "Given matrix m x n containing only 0s and 1s. Write code that finds path of 1s from first row to last row. \n",
    "Print Matrix spiral order(top-down - bottom-up pattern)\n",
    "valid parentheses in a string\n",
    "possible string permutations\n",
    "sorting the linked list\n",
    "a 2D matrix and finding patterns in it\n",
    "Given a string s, find the longest palindromic substring in s. You may assume that the maximum length of s is 1000.  \n",
    "Remove duplicates in a list.\n",
    "given a number, write a function to determine if the number is a power of 7  \n",
    "given an X/O game 3x3 grid, write a function to determine who won  \n",
    "Rearrange a array by given index (Smaller ones go left and bigger ones go right); \n",
    "find the longest consecutive increment sequence\n",
    "You are given two image files. How would you go about determining if they are the same image?  \n",
    "How would you find a loop in a linked list?  \n",
    "Given an integer, find the largest of the sum of two digits. \n",
    "Write some codes to convert a string to its ascii codes\n",
    "Write an algorithm to generate all subsets of set.  \n",
    "Find the peak in given array\n",
    "Greedy algorithm related question involving intervals.\n",
    "how to determine whether number is power of 2 or not  \n",
    "Given a family tree, how would you find the least common ancestor?  \n",
    "longest file path\n",
    "post-fix expression calculation  \n",
    "Coding questions: buy/sell stocks, bfs/dfs, load balancer, open-end discussion.  \n",
    "How to efficiently randomize a deck of cards.\n",
    "Detect cycle in directed graph.  \n",
    "REVERSE LINKED LIST\n",
    "\n",
    "Diff IAAS/ PAAS\n",
    "\n",
    "\n",
    "Design friend of a friend recognition system for social platform.\n",
    "Google Flight\n",
    "Tiny URL\n",
    "Cloud solutions for Snapchat, Twitter, Youtube\n",
    "\n",
    "Where would you setup a sandwich shop?\n",
    "What has more potential in CityX Flower or Funeral shop\n",
    "\n",
    "System Design\n",
    " https://www.educative.io/collection/5668639101419520/5649050225344512?authorName=Design%20Gurus\n",
    "  "
   ]
  },
  {
   "cell_type": "code",
   "execution_count": 4,
   "metadata": {},
   "outputs": [
    {
     "name": "stdout",
     "output_type": "stream",
     "text": [
      "0\n",
      "1\n",
      "2\n"
     ]
    }
   ],
   "source": [
    "import collections\n",
    "\n",
    "\n",
    "def breadth_first_search(graph, root): \n",
    "    visited, queue = set(), collections.deque([root])\n",
    "    while queue: \n",
    "        vertex = queue.popleft()\n",
    "        visit(vertex)\n",
    "        for neighbour in graph[vertex]: \n",
    "            if neighbour not in visited: \n",
    "                visited.add(neighbour) \n",
    "                queue.append(neighbour) \n",
    "\n",
    "def visit(n):\n",
    "    print(n)\n",
    "    \n",
    "if __name__ == '__main__':\n",
    "    graph = {0: [1, 2], 1: [2], 2: []} \n",
    "    breadth_first_search(graph, 0)"
   ]
  },
  {
   "cell_type": "code",
   "execution_count": null,
   "metadata": {
    "collapsed": true
   },
   "outputs": [],
   "source": []
  }
 ],
 "metadata": {
  "kernelspec": {
   "display_name": "Python 3",
   "language": "python",
   "name": "python3"
  },
  "language_info": {
   "codemirror_mode": {
    "name": "ipython",
    "version": 3
   },
   "file_extension": ".py",
   "mimetype": "text/x-python",
   "name": "python",
   "nbconvert_exporter": "python",
   "pygments_lexer": "ipython3",
   "version": "3.6.1"
  }
 },
 "nbformat": 4,
 "nbformat_minor": 2
}

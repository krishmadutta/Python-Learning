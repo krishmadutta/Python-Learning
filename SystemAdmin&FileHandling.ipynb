{
 "cells": [
  {
   "cell_type": "code",
   "execution_count": null,
   "metadata": {
    "collapsed": true
   },
   "outputs": [],
   "source": [
    "##Google\n",
    "#You are given two image files. How would you go about determining if they are the same image?\n"
   ]
  },
  {
   "cell_type": "code",
   "execution_count": 1,
   "metadata": {},
   "outputs": [
    {
     "name": "stdout",
     "output_type": "stream",
     "text": [
      "TestName     id         eno            TPS      GRE          FNP\n",
      "\n",
      "Totals       64           0            129.61       145.64       1.12\n"
     ]
    }
   ],
   "source": [
    "\"\"\"\n",
    "TestName     id         eno            TPS      GRE          FNP\n",
    "Test 1205    1            0            78.00        0.00         0.02\n",
    "Test 1206    1            0            45.00        0.00         0.02\n",
    "Test 1207    1            0            73400        0.00         0.02\n",
    "Test 1208    1            0            34.00        0.00         0.02\n",
    "\n",
    "Totals       64           0            129.61       145.64       1.12\n",
    "\n",
    "\"\"\"\n",
    "def file():\n",
    "    theFile = open('test.txt','r')\n",
    "    FILE = theFile.readlines()\n",
    "    theFile.close()\n",
    "    printList = []\n",
    "    for line in FILE:\n",
    "        if ('TestName' in line) or ('Totals' in line):\n",
    "            printList.append(line)\n",
    "\n",
    "    for item in printList:\n",
    "        print (item)    # or write it to another file... or whatever\n",
    "\n",
    "file()"
   ]
  },
  {
   "cell_type": "code",
   "execution_count": 38,
   "metadata": {},
   "outputs": [
    {
     "name": "stdout",
     "output_type": "stream",
     "text": [
      "1 Day Before Practice.ipynb\n"
     ]
    },
    {
     "ename": "ValueError",
     "evalue": "I/O operation on closed file.",
     "output_type": "error",
     "traceback": [
      "\u001b[0;31m---------------------------------------------------------------------------\u001b[0m",
      "\u001b[0;31mValueError\u001b[0m                                Traceback (most recent call last)",
      "\u001b[0;32m<ipython-input-38-478edabe7af7>\u001b[0m in \u001b[0;36m<module>\u001b[0;34m()\u001b[0m\n\u001b[1;32m      8\u001b[0m             \u001b[0mFile\u001b[0m \u001b[0;34m=\u001b[0m \u001b[0mtheFile\u001b[0m\u001b[0;34m.\u001b[0m\u001b[0mreadlines\u001b[0m\u001b[0;34m(\u001b[0m\u001b[0;34m)\u001b[0m\u001b[0;34m\u001b[0m\u001b[0m\n\u001b[1;32m      9\u001b[0m             \u001b[0mtheFile\u001b[0m\u001b[0;34m.\u001b[0m\u001b[0mclose\u001b[0m\u001b[0;34m(\u001b[0m\u001b[0;34m)\u001b[0m\u001b[0;34m\u001b[0m\u001b[0m\n\u001b[0;32m---> 10\u001b[0;31m             \u001b[0;32mfor\u001b[0m \u001b[0mline\u001b[0m \u001b[0;32min\u001b[0m \u001b[0mFILE\u001b[0m\u001b[0;34m:\u001b[0m\u001b[0;34m\u001b[0m\u001b[0m\n\u001b[0m\u001b[1;32m     11\u001b[0m                 \u001b[0;32mif\u001b[0m\u001b[0;34m(\u001b[0m\u001b[0;34m'LinkedList'\u001b[0m \u001b[0;32min\u001b[0m \u001b[0mline\u001b[0m\u001b[0;34m)\u001b[0m\u001b[0;34m:\u001b[0m\u001b[0;34m\u001b[0m\u001b[0m\n\u001b[1;32m     12\u001b[0m                     \u001b[0mprint\u001b[0m \u001b[0;34m(\u001b[0m\u001b[0mfiles\u001b[0m\u001b[0;34m)\u001b[0m\u001b[0;34m\u001b[0m\u001b[0m\n",
      "\u001b[0;31mValueError\u001b[0m: I/O operation on closed file."
     ]
    }
   ],
   "source": [
    "import os\n",
    "\n",
    "for files in os.listdir(\"/Users/krishma_dutta\"):   #  .  means current directory\n",
    "    if \".ipynb\" in files:\n",
    "        if os.path.isfile(files):\n",
    "            theFile =  open(files,'r')\n",
    "            \n",
    "            FILE = theFile.readlines()\n",
    "            theFile.close()\n",
    "            for line in FILE:\n",
    "                if('LinkedList' in line):\n",
    "                    print (files)"
   ]
  },
  {
   "cell_type": "code",
   "execution_count": null,
   "metadata": {
    "collapsed": true
   },
   "outputs": [],
   "source": [
    "for file in os.scandir('.'):\n",
    "    line = ''\n",
    "    if file.is_file():\n",
    "        line += 'f'\n",
    "    elif file.is_dir():\n",
    "        line += 'd'\n",
    "    elif file.is_symlink():\n",
    "        line += 'l'\n",
    "    line += '\\t'\n",
    "    print(\"{}{}\".format(line, file.name))"
   ]
  },
  {
   "cell_type": "code",
   "execution_count": 16,
   "metadata": {},
   "outputs": [
    {
     "data": {
      "text/plain": [
       "'krishmadutta@gmail'"
      ]
     },
     "execution_count": 16,
     "metadata": {},
     "output_type": "execute_result"
    }
   ],
   "source": [
    "#Parse a IPv4 address using RegEx\n",
    "# Parse Email\n",
    "\n",
    "s = \"krishmadutta@gmail.com\"\n",
    "s.split(\"@\")[0]\n",
    "s.split(\"@\")[1]\n",
    "\n",
    "\n"
   ]
  },
  {
   "cell_type": "code",
   "execution_count": 20,
   "metadata": {},
   "outputs": [
    {
     "data": {
      "text/plain": [
       "'110'"
      ]
     },
     "execution_count": 20,
     "metadata": {},
     "output_type": "execute_result"
    }
   ],
   "source": [
    "ip = \"10.100.110.111\"\n",
    "ip.split(\".\")[0]\n"
   ]
  },
  {
   "cell_type": "code",
   "execution_count": 34,
   "metadata": {},
   "outputs": [
    {
     "name": "stdout",
     "output_type": "stream",
     "text": [
      "krishmadutta\n",
      "krishma_dutta\n",
      "k_dutta\n",
      "liam\n"
     ]
    }
   ],
   "source": [
    "\n",
    "FILE = open('email.txt','r')\n",
    "\n",
    "FH = FILE.readlines()\n",
    "for row in FH:\n",
    "    if '@' in row:\n",
    "        #print(row)\n",
    "        print(row.split(\"@\")[0])\n",
    "        \n",
    "FILE.close()"
   ]
  },
  {
   "cell_type": "code",
   "execution_count": null,
   "metadata": {
    "collapsed": true
   },
   "outputs": [],
   "source": []
  }
 ],
 "metadata": {
  "kernelspec": {
   "display_name": "Python 3",
   "language": "python",
   "name": "python3"
  },
  "language_info": {
   "codemirror_mode": {
    "name": "ipython",
    "version": 3
   },
   "file_extension": ".py",
   "mimetype": "text/x-python",
   "name": "python",
   "nbconvert_exporter": "python",
   "pygments_lexer": "ipython3",
   "version": "3.6.1"
  }
 },
 "nbformat": 4,
 "nbformat_minor": 2
}

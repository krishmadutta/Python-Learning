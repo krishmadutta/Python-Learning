{
 "cells": [
  {
   "cell_type": "code",
   "execution_count": 33,
   "metadata": {},
   "outputs": [
    {
     "name": "stdout",
     "output_type": "stream",
     "text": [
      "y\n",
      "Ka\n"
     ]
    },
    {
     "data": {
      "text/plain": [
       "True"
      ]
     },
     "execution_count": 33,
     "metadata": {},
     "output_type": "execute_result"
    }
   ],
   "source": [
    "# Palindrome\n",
    "def check_palindrome1(string_input):\n",
    "    # Are they in lowercase \n",
    "    string_input = string_input.lower()\n",
    "    \n",
    "    if string_input == string_input[::-1]:\n",
    "        return True\n",
    "    else:\n",
    "        return False\n",
    "\n",
    "def check_palindrome2(string_input):\n",
    "    \n",
    "    pivot = len(string_input)//2    #FLOOR DIVION AS INDEX OF ARRAY CANNOT BE DECIMAL 2.5\n",
    "    \n",
    "   \n",
    "    if len(string_input)%2 ==0:    #EVEN PALINDROM ANNA\n",
    "        if string_input[:pivot].lower() == string_input[pivot:][::-1].lower():\n",
    "            return True\n",
    "        else:\n",
    "            return False\n",
    "    \n",
    "    else:   #ODD PALINDROME KAYAK\n",
    "        \n",
    "        if string_input[:pivot].lower() == string_input[pivot+1:][::-1].lower():\n",
    "            return True\n",
    "        else:\n",
    "            return False\n",
    "    \n",
    "    \n",
    "check_palindrome2(\"Kayak\") "
   ]
  },
  {
   "cell_type": "code",
   "execution_count": 14,
   "metadata": {},
   "outputs": [
    {
     "name": "stdout",
     "output_type": "stream",
     "text": [
      "acst act\n"
     ]
    },
    {
     "data": {
      "text/plain": [
       "False"
      ]
     },
     "execution_count": 14,
     "metadata": {},
     "output_type": "execute_result"
    }
   ],
   "source": [
    "#Anagram\n",
    "\n",
    "def check_anagram(string_input1, string_input2):\n",
    "    \n",
    "    if len(string_input1) != len(string_input2):\n",
    "        return False\n",
    "    \n",
    "    s1 = sorted_string(string_input1)\n",
    "    s2 = sorted_string(string_input2)\n",
    "    \n",
    "    if s1 == s2:\n",
    "        return True\n",
    "    else:\n",
    "        return False\n",
    "\n",
    "def sorted_string(s):\n",
    "   \n",
    "    s = sorted(s)\n",
    "    \n",
    "    return (\"\".join(s))\n",
    "\n",
    "\n",
    "check_anagram(\"cats\",\"tac\")"
   ]
  },
  {
   "cell_type": "code",
   "execution_count": 56,
   "metadata": {},
   "outputs": [
    {
     "data": {
      "text/plain": [
       "[1, 2, 3, 4, 5, 6, 7, 8, 9]"
      ]
     },
     "execution_count": 56,
     "metadata": {},
     "output_type": "execute_result"
    }
   ],
   "source": [
    "class Solution:\n",
    "    # @param matrix, a list of lists of integers\n",
    "    # @return a list of integers\n",
    "    #https://www.youtube.com/watch?v=siKFOI8PNKM\n",
    "    \n",
    "    def spiralOrder(self, matrix):\n",
    "        if matrix == []: \n",
    "            return []\n",
    "        \n",
    "        top = 0; left = 0\n",
    "        bottom = len(matrix)-1\n",
    "        right = len(matrix[0])-1\n",
    "        direct = 0  # direction left->right, top->bottom, right->left, bottom->top\n",
    "        res = []\n",
    "        \n",
    "        while True:\n",
    "            if direct == 0:\n",
    "                for i in range(left, right+1):   # L---->R\n",
    "                    res.append(matrix[top][i])\n",
    "                top = top + 1\n",
    "                \n",
    "            elif direct == 1:                      \n",
    "                for i in range(top, bottom+1):        \n",
    "                    res.append(matrix[i][right])\n",
    "                right = right - 1\n",
    "                \n",
    "            elif direct == 2:\n",
    "                for i in range(right, left-1, -1):  # L<-----R\n",
    "                    res.append(matrix[bottom][i])\n",
    "                bottom = bottom - 1\n",
    "                \n",
    "            elif direct == 3:\n",
    "                for i in range(bottom, top-1, -1):\n",
    "                    res.append(matrix[i][left])\n",
    "                left =left + 1\n",
    "                \n",
    "            if top > bottom and left > right: \n",
    "                return res\n",
    "            \n",
    "            direct = (direct+1) % 4   # if direction is 4 we take mode of 4 that will be zero again\n",
    "\n",
    "spiralO = Solution()\n",
    "spiralO.spiralOrder([\n",
    " [ 1, 2, 3 ],\n",
    " [ 8, 9, 4 ],\n",
    " [ 7, 6, 5 ]\n",
    "])\n"
   ]
  },
  {
   "cell_type": "code",
   "execution_count": 60,
   "metadata": {},
   "outputs": [
    {
     "data": {
      "text/plain": [
       "4"
      ]
     },
     "execution_count": 60,
     "metadata": {},
     "output_type": "execute_result"
    }
   ],
   "source": [
    "#POSTIVE NUMBERS ONLY\n",
    "#O(n)\n",
    "def power(x,n):\n",
    "    if n==0:\n",
    "        return 1\n",
    "    else:\n",
    "        return x*power(x,n-1)\n",
    "\n",
    "power(2,2)"
   ]
  },
  {
   "cell_type": "code",
   "execution_count": null,
   "metadata": {},
   "outputs": [],
   "source": [
    "# O(logn)\n",
    "def power(x,n):\n",
    "     \n",
    "    if n==0:\n",
    "        return 1\n",
    "    \n",
    "    temp = power(x,n/2)               #CTM\n",
    "    \n",
    "    if n%2==0:                     #EVEN POWERS  2^2  =  2*2\n",
    "        return temp*temp\n",
    "    else:\n",
    "        if n>0:                      #ODD POWERS\n",
    "            return x*temp*temp\n",
    "        else:                        #-ve powers / number\n",
    "            return (temp*temp)/x\n",
    "power(2,-2)"
   ]
  },
  {
   "cell_type": "code",
   "execution_count": null,
   "metadata": {
    "collapsed": true
   },
   "outputs": [],
   "source": []
  },
  {
   "cell_type": "code",
   "execution_count": null,
   "metadata": {
    "collapsed": true
   },
   "outputs": [],
   "source": []
  }
 ],
 "metadata": {
  "kernelspec": {
   "display_name": "Python 3",
   "language": "python",
   "name": "python3"
  },
  "language_info": {
   "codemirror_mode": {
    "name": "ipython",
    "version": 3
   },
   "file_extension": ".py",
   "mimetype": "text/x-python",
   "name": "python",
   "nbconvert_exporter": "python",
   "pygments_lexer": "ipython3",
   "version": "3.6.1"
  }
 },
 "nbformat": 4,
 "nbformat_minor": 2
}

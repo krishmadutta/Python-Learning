{
 "cells": [
  {
   "cell_type": "code",
   "execution_count": 4,
   "metadata": {},
   "outputs": [],
   "source": [
    "# Fibonacci Series \n",
    "# OlogN\n",
    "def climbStairs(n):\n",
    "    # base cases\n",
    "    if n <= 0: return 0\n",
    "    if n == 1: return 1\n",
    "    if n == 2: return 2\n",
    "    \n",
    "    one_step_before = 2\n",
    "    two_steps_before = 1\n",
    "    all_ways = 0\n",
    "    \n",
    "    for i in range(2,n):\n",
    "        all_ways = one_step_before + two_steps_before\n",
    "        two_steps_before = one_step_before\n",
    "        one_step_before = all_ways\n",
    "        i = i + 1\n",
    "        \n",
    "    return all_ways\n"
   ]
  },
  {
   "cell_type": "code",
   "execution_count": 5,
   "metadata": {},
   "outputs": [
    {
     "data": {
      "text/plain": [
       "8"
      ]
     },
     "execution_count": 5,
     "metadata": {},
     "output_type": "execute_result"
    }
   ],
   "source": [
    "climbStairs(5)"
   ]
  },
  {
   "cell_type": "code",
   "execution_count": null,
   "metadata": {
    "collapsed": true
   },
   "outputs": [],
   "source": [
    "# Write Fibonacci's algorithm without recursion (using dynamic programming) "
   ]
  }
 ],
 "metadata": {
  "kernelspec": {
   "display_name": "Python 3",
   "language": "python",
   "name": "python3"
  },
  "language_info": {
   "codemirror_mode": {
    "name": "ipython",
    "version": 3
   },
   "file_extension": ".py",
   "mimetype": "text/x-python",
   "name": "python",
   "nbconvert_exporter": "python",
   "pygments_lexer": "ipython3",
   "version": "3.6.1"
  }
 },
 "nbformat": 4,
 "nbformat_minor": 2
}

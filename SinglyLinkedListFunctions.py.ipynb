{
 "cells": [
  {
   "cell_type": "code",
   "execution_count": 41,
   "metadata": {
    "collapsed": true
   },
   "outputs": [],
   "source": [
    "# Implement Linked List *\n",
    "# Add Head/Tail*\n",
    "# Traverse List *\n",
    "# Search particular node *\n",
    "# Delete *\n",
    "# Reverse ***G\n",
    "# Sorting  *** G\n",
    "# Remove Duplicates *** ON2\n",
    "# kth element / kth to last element\n",
    "# Delete Middle Node\n",
    "# Linked List is Palindrome\n",
    "# Merge 2 lists\n",
    "# Intersection of Linked List \n",
    "# How would you find a loop in a linked list?  ***G"
   ]
  },
  {
   "cell_type": "code",
   "execution_count": 2,
   "metadata": {
    "collapsed": true
   },
   "outputs": [],
   "source": [
    "class Node(object):\n",
    "    def __init__(self,data):\n",
    "        self.data = data\n",
    "        self.nextNode = None"
   ]
  },
  {
   "cell_type": "code",
   "execution_count": null,
   "metadata": {
    "collapsed": true
   },
   "outputs": [],
   "source": [
    "\n",
    "class SinglyLinkedList:\n",
    "    def __init__(self):\n",
    "        self.head = None\n",
    "        \n",
    "    def AddNodeHead(self, data):\n",
    "        newNode = Node(data)\n",
    "        newNode.nextNode = self.head\n",
    "        self.head = newNode\n",
    "     \n",
    "    def ListTraverse(self):\n",
    "        current = self.head\n",
    "      \n",
    "        while(current):\n",
    "            print (current.data)\n",
    "            current =current.nextNode\n",
    "            \n",
    "    def SearchNode(self, data):\n",
    "        current = self.head\n",
    "        while current !=None:\n",
    "            if current.data == data:\n",
    "                return True\n",
    "            current = current.nextNode\n",
    "        return False\n",
    "    \n",
    "    def ReverseLinkedList(self):\n",
    "        prev = None\n",
    "        current = self.head\n",
    "        while(current is not None):\n",
    "            temp = current.nextNode\n",
    "            current.nextNode = prev\n",
    "            prev = current\n",
    "            current = temp\n",
    "        self.head = prev\n",
    "        \n",
    "    def cycle_check(self):\n",
    "        node = self.head\n",
    "        \n",
    "        marker1 = node\n",
    "        marker2 = node\n",
    "\n",
    "        while marker2 !=None and marker2.nextNode != None:\n",
    "            marker1 = marker1.nextNode\n",
    "            marker2 = marker2.nextNode.nextNode\n",
    "\n",
    "            if marker1 == marker2:\n",
    "                return True\n",
    "        return False\n",
    "\n",
    "    def RemoveDuplicate(self): #O (N2) i think hash table will help to reduce this to O(N)\n",
    "      \n",
    "        head = self.head\n",
    "        \n",
    "        if head is None:\n",
    "            return None\n",
    "\n",
    "        curr = head\n",
    "        while curr is not None:\n",
    "            inner = curr\n",
    "            while inner.nextNode is not None:\n",
    "                if inner.nextNode.data == curr.data:\n",
    "                    inner.nextNode = inner.nextNode.nextNode\n",
    "                else:\n",
    "                    inner = inner.nextNode\n",
    "            curr = curr.nextNode\n",
    "\n",
    "        return head\n",
    "    \n",
    "     def DeleteNode(self,key):\n",
    "        temp = self.head\n",
    "        \n",
    "        # HEAD is Node to be deleted\n",
    "        if(temp != None):\n",
    "            if (temp.data==temp.nextNode):\n",
    "                temp = None\n",
    "                return\n",
    "       \n",
    "        #When node is not head node\n",
    "        while temp !=None:\n",
    "            if temp.data ==key:\n",
    "                break\n",
    "            prev = temp\n",
    "            temp = temp.nextNode\n",
    "        \n",
    "        if(temp ==None):\n",
    "            return\n",
    "        \n",
    "        prev.nextNode = temp.nextNode\n",
    "        temp =None\n",
    "        \n",
    "    def RemoveDuplicateHash(self):\n",
    "        current = self.head\n",
    "        \n",
    "        if current is None:\n",
    "            return None\n",
    "        \n",
    "        dups = {} #hash to store the nodes data\n",
    "        previous = None\n",
    "        while current is not None:\n",
    "            #inner = current\n",
    "            if current.data in dups.values():\n",
    "                #TO DO IMPLEMENT DELETE This node its a duplicate\n",
    "                print(\"Delete\",current.data)\n",
    "               # if inner.nextNode.data == current.data:\n",
    "               #     inner.nextNode = inner.nextNode.nextNode\n",
    "               # else:\n",
    "               #     inner = inner.nextNode\n",
    "                    \n",
    "            dups[current] = current.data \n",
    "            current = current.nextNode;\n",
    "            \n",
    "        return head    \n",
    "          \n",
    "        \n",
    "       # for keys,values in dups.items():\n",
    "       #     print(keys)\n",
    "       #     print(values)\n",
    "             "
   ]
  },
  {
   "cell_type": "code",
   "execution_count": 3,
   "metadata": {},
   "outputs": [
    {
     "name": "stdout",
     "output_type": "stream",
     "text": [
      "List Items\n",
      "30\n",
      "20\n",
      "10\n",
      "No\n",
      "Yes\n"
     ]
    }
   ],
   "source": [
    "llist = SinglyLinkedList()\n",
    "llist.AddNodeHead(10)\n",
    "llist.AddNodeHead(20)\n",
    "llist.AddNodeHead(30)\n",
    "\n",
    "\n",
    "print (\"List Items\")\n",
    "llist.ListTraverse()\n",
    "\n",
    "\n",
    "if llist.SearchNode(190): \n",
    "    print (\"Yes\")\n",
    "else:\n",
    "    print(\"No\")\n",
    "\n",
    "if llist.SearchNode(10): \n",
    "    print (\"Yes\")\n",
    "else:\n",
    "    print(\"No\")\n",
    "    "
   ]
  },
  {
   "cell_type": "code",
   "execution_count": null,
   "metadata": {
    "collapsed": true
   },
   "outputs": [],
   "source": [
    "llist = SinglyLinkedList()\n",
    "llist.AddNodeHead(10)\n",
    "llist.AddNodeHead(20)\n",
    "llist.AddNodeHead(30)\n",
    "\n",
    "\n",
    "print (\"List Items before\")\n",
    "llist.ListTraverse()\n",
    "llist.DeleteNode(10)\n",
    "print (\"List Items after\")\n",
    "llist.ListTraverse()"
   ]
  },
  {
   "cell_type": "code",
   "execution_count": null,
   "metadata": {
    "collapsed": true
   },
   "outputs": [],
   "source": [
    "llist = SinglyLinkedList()\n",
    "llist.AddNodeHead(10)\n",
    "llist.AddNodeHead(20)\n",
    "llist.AddNodeHead(30)\n",
    "\n",
    "\n",
    "print (\"List Items before\")\n",
    "llist.ListTraverse()"
   ]
  },
  {
   "cell_type": "code",
   "execution_count": 11,
   "metadata": {},
   "outputs": [
    {
     "name": "stdout",
     "output_type": "stream",
     "text": [
      "List Items\n",
      "40\n",
      "30\n",
      "20\n",
      "10\n",
      "40\n",
      "30\n",
      "20\n",
      "10\n",
      "Delete 40\n",
      "Delete 30\n",
      "Delete 20\n",
      "Delete 10\n"
     ]
    },
    {
     "ename": "AttributeError",
     "evalue": "'NoneType' object has no attribute 'data'",
     "output_type": "error",
     "traceback": [
      "\u001b[0;31m---------------------------------------------------------------------------\u001b[0m",
      "\u001b[0;31mAttributeError\u001b[0m                            Traceback (most recent call last)",
      "\u001b[0;32m<ipython-input-11-d633aaa62fc4>\u001b[0m in \u001b[0;36m<module>\u001b[0;34m()\u001b[0m\n\u001b[1;32m     14\u001b[0m \u001b[0mllist\u001b[0m\u001b[0;34m.\u001b[0m\u001b[0mListTraverse\u001b[0m\u001b[0;34m(\u001b[0m\u001b[0;34m)\u001b[0m\u001b[0;34m\u001b[0m\u001b[0m\n\u001b[1;32m     15\u001b[0m \u001b[0;34m\u001b[0m\u001b[0m\n\u001b[0;32m---> 16\u001b[0;31m \u001b[0mllist\u001b[0m\u001b[0;34m.\u001b[0m\u001b[0mRemoveDuplicateHash\u001b[0m\u001b[0;34m(\u001b[0m\u001b[0;34m)\u001b[0m\u001b[0;34m\u001b[0m\u001b[0m\n\u001b[0m\u001b[1;32m     17\u001b[0m \u001b[0mprint\u001b[0m \u001b[0;34m(\u001b[0m\u001b[0;34m\"apres\"\u001b[0m\u001b[0;34m)\u001b[0m\u001b[0;34m\u001b[0m\u001b[0m\n\u001b[1;32m     18\u001b[0m \u001b[0mllist\u001b[0m\u001b[0;34m.\u001b[0m\u001b[0mListTraverse\u001b[0m\u001b[0;34m(\u001b[0m\u001b[0;34m)\u001b[0m\u001b[0;34m\u001b[0m\u001b[0m\n",
      "\u001b[0;32m<ipython-input-10-6949cfd82a52>\u001b[0m in \u001b[0;36mRemoveDuplicateHash\u001b[0;34m(self)\u001b[0m\n\u001b[1;32m     92\u001b[0m                 \u001b[0;31m#TO DO IMPLEMENT DELETE This node its a duplicate\u001b[0m\u001b[0;34m\u001b[0m\u001b[0;34m\u001b[0m\u001b[0m\n\u001b[1;32m     93\u001b[0m                 \u001b[0mprint\u001b[0m\u001b[0;34m(\u001b[0m\u001b[0;34m\"Delete\"\u001b[0m\u001b[0;34m,\u001b[0m\u001b[0mcurrent\u001b[0m\u001b[0;34m.\u001b[0m\u001b[0mdata\u001b[0m\u001b[0;34m)\u001b[0m\u001b[0;34m\u001b[0m\u001b[0m\n\u001b[0;32m---> 94\u001b[0;31m                 \u001b[0;32mif\u001b[0m \u001b[0minner\u001b[0m\u001b[0;34m.\u001b[0m\u001b[0mnextNode\u001b[0m\u001b[0;34m.\u001b[0m\u001b[0mdata\u001b[0m \u001b[0;34m==\u001b[0m \u001b[0mcurrent\u001b[0m\u001b[0;34m.\u001b[0m\u001b[0mdata\u001b[0m\u001b[0;34m:\u001b[0m\u001b[0;34m\u001b[0m\u001b[0m\n\u001b[0m\u001b[1;32m     95\u001b[0m                     \u001b[0minner\u001b[0m\u001b[0;34m.\u001b[0m\u001b[0mnextNode\u001b[0m \u001b[0;34m=\u001b[0m \u001b[0minner\u001b[0m\u001b[0;34m.\u001b[0m\u001b[0mnextNode\u001b[0m\u001b[0;34m.\u001b[0m\u001b[0mnextNode\u001b[0m\u001b[0;34m\u001b[0m\u001b[0m\n\u001b[1;32m     96\u001b[0m                 \u001b[0;32melse\u001b[0m\u001b[0;34m:\u001b[0m\u001b[0;34m\u001b[0m\u001b[0m\n",
      "\u001b[0;31mAttributeError\u001b[0m: 'NoneType' object has no attribute 'data'"
     ]
    }
   ],
   "source": [
    "llist = SinglyLinkedList()\n",
    "llist.AddNodeHead(10)\n",
    "llist.AddNodeHead(20)\n",
    "llist.AddNodeHead(30)\n",
    "llist.AddNodeHead(40)\n",
    "llist.AddNodeHead(10)\n",
    "llist.AddNodeHead(20)\n",
    "llist.AddNodeHead(30)\n",
    "llist.AddNodeHead(40)\n",
    "\n",
    "\n",
    "\n",
    "print (\"List Items\")\n",
    "llist.ListTraverse()\n",
    "\n",
    "llist.RemoveDuplicateHash()\n",
    "print (\"apres\")\n",
    "llist.ListTraverse()\n",
    "\n",
    "\n"
   ]
  },
  {
   "cell_type": "code",
   "execution_count": null,
   "metadata": {
    "collapsed": true
   },
   "outputs": [],
   "source": []
  },
  {
   "cell_type": "code",
   "execution_count": null,
   "metadata": {
    "collapsed": true
   },
   "outputs": [],
   "source": []
  }
 ],
 "metadata": {
  "kernelspec": {
   "display_name": "Python 3",
   "language": "python",
   "name": "python3"
  },
  "language_info": {
   "codemirror_mode": {
    "name": "ipython",
    "version": 3
   },
   "file_extension": ".py",
   "mimetype": "text/x-python",
   "name": "python",
   "nbconvert_exporter": "python",
   "pygments_lexer": "ipython3",
   "version": "3.6.1"
  }
 },
 "nbformat": 4,
 "nbformat_minor": 2
}
